{
  "nbformat": 4,
  "nbformat_minor": 0,
  "metadata": {
    "colab": {
      "name": "Untitled10 (3)-checkpoint.ipynb",
      "provenance": [],
      "collapsed_sections": [],
      "include_colab_link": true
    },
    "kernelspec": {
      "display_name": "Python 3",
      "language": "python",
      "name": "python3"
    },
    "language_info": {
      "codemirror_mode": {
        "name": "ipython",
        "version": 3
      },
      "file_extension": ".py",
      "mimetype": "text/x-python",
      "name": "python",
      "nbconvert_exporter": "python",
      "pygments_lexer": "ipython3",
      "version": "3.8.5"
    }
  },
  "cells": [
    {
      "cell_type": "markdown",
      "metadata": {
        "id": "view-in-github",
        "colab_type": "text"
      },
      "source": [
        "<a href=\"https://colab.research.google.com/github/jsharmaji/Deep-Learning-Frameworks-for-COVID--19-Detection/blob/main/Untitled10_(3)_checkpoint.ipynb\" target=\"_parent\"><img src=\"https://colab.research.google.com/assets/colab-badge.svg\" alt=\"Open In Colab\"/></a>"
      ]
    },
    {
      "cell_type": "code",
      "metadata": {
        "id": "U1h9OtUsCEwl"
      },
      "source": [
        "import os\n",
        "import cv2\n",
        "import pickle\n",
        "import numpy as np\n",
        "import matplotlib.pyplot as plt\n",
        "from tensorflow import keras\n",
        "import seaborn as sns\n",
        "from tqdm import tqdm\n",
        "import tensorflow as tf\n",
        "from sklearn.preprocessing import OneHotEncoder\n",
        "from sklearn.metrics import confusion_matrix\n",
        "from keras.layers import Dense, Input, Conv2D, MaxPool2D, Flatten,Conv3D\n",
        "from keras.models import Model, load_model\n",
        "from tensorflow.keras.preprocessing.image import ImageDataGenerator\n",
        "from time import time"
      ],
      "execution_count": null,
      "outputs": []
    },
    {
      "cell_type": "code",
      "metadata": {
        "id": "pMLJ8bf2CRvR"
      },
      "source": [
        "def load_normal(norm_path):\n",
        "    norm_files = np.array(os.listdir(norm_path))\n",
        "    norm_labels = np.array(['normal']*len(norm_files))\n",
        "    \n",
        "    norm_images = []\n",
        "    for image in tqdm(norm_files):\n",
        "        image = cv2.imread(norm_path + image)\n",
        "        image = cv2.resize(image, dsize=(200,200))\n",
        "        image = cv2.cvtColor(image, cv2.COLOR_BGR2GRAY)\n",
        "        norm_images.append(image)\n",
        "        \n",
        "    norm_images = np.array(norm_images)\n",
        "    \n",
        "    return norm_images, norm_labels\n",
        "\n",
        "def load_covid(covid_path):\n",
        "    covid_files = np.array(os.listdir(covid_path))\n",
        "    covid_labels = np.array(['covid']*len(covid_files))\n",
        "    \n",
        "    covid_images = []\n",
        "    for image in tqdm(covid_files):\n",
        "        image = cv2.imread(covid_path + image)\n",
        "        image = cv2.resize(image, dsize=(200,200))\n",
        "        image = cv2.cvtColor(image, cv2.COLOR_BGR2GRAY)\n",
        "        covid_images.append(image)\n",
        "        \n",
        "    covid_images = np.array(covid_images)\n",
        "    \n",
        "    return covid_images, covid_labels"
      ],
      "execution_count": null,
      "outputs": []
    },
    {
      "cell_type": "code",
      "metadata": {
        "id": "CR4VUXhkCVXj"
      },
      "source": [
        "from google.colab import drive\n",
        "drive.mount('/content/drive')"
      ],
      "execution_count": null,
      "outputs": []
    },
    {
      "cell_type": "code",
      "metadata": {
        "id": "I-vpF6HmDFdC"
      },
      "source": [
        "norm_images, norm_labels = load_normal('/content/drive/My Drive/datasets/Data/train/NORMAL/')\n",
        "covid_images, covid_labels = load_covid('/content/drive/My Drive/datasets/Data/train/COVID19/')"
      ],
      "execution_count": null,
      "outputs": []
    },
    {
      "cell_type": "code",
      "metadata": {
        "id": "QRLI_aChD4wj"
      },
      "source": [
        "X_train = np.append(norm_images, covid_images, axis=0)\n",
        "y_train = np.append(norm_labels, covid_labels)"
      ],
      "execution_count": null,
      "outputs": []
    },
    {
      "cell_type": "code",
      "metadata": {
        "id": "5k4xt8SkEyUq"
      },
      "source": [
        "fig, axes = plt.subplots(ncols=7, nrows=2, figsize=(16, 4))\n",
        "\n",
        "indices = np.random.choice(len(X_train), 14)\n",
        "counter = 0\n",
        "\n",
        "for i in range(2):\n",
        "    for j in range(7):\n",
        "        axes[i,j].set_title(y_train[indices[counter]])\n",
        "        axes[i,j].imshow(X_train[indices[counter]], cmap='gray')\n",
        "        axes[i,j].get_xaxis().set_visible(False)\n",
        "        axes[i,j].get_yaxis().set_visible(False)\n",
        "        counter += 1\n",
        "plt.show()"
      ],
      "execution_count": null,
      "outputs": []
    },
    {
      "cell_type": "code",
      "metadata": {
        "id": "Rji_xhaxE0W3"
      },
      "source": [
        "norm_images_test, norm_labels_test = load_normal('/content/drive/My Drive/datasets/Data/test/NORMAL/')\n",
        "covid_images_test, covid_labels_test = load_covid('/content/drive/My Drive/datasets/Data/test/COVID19/')"
      ],
      "execution_count": null,
      "outputs": []
    },
    {
      "cell_type": "code",
      "metadata": {
        "id": "4CmTQj_RFlNP"
      },
      "source": [
        "X_test = np.append(norm_images_test, covid_images_test, axis=0)\n",
        "y_test = np.append(norm_labels_test, covid_labels_test)"
      ],
      "execution_count": null,
      "outputs": []
    },
    {
      "cell_type": "code",
      "metadata": {
        "id": "p5p96QCPFp4R"
      },
      "source": [
        "y_train = y_train[:, np.newaxis]\n",
        "y_test = y_test[:, np.newaxis]"
      ],
      "execution_count": null,
      "outputs": []
    },
    {
      "cell_type": "code",
      "metadata": {
        "id": "z3mN7gQOFrmV"
      },
      "source": [
        "one_hot_encoder = OneHotEncoder(sparse=False)"
      ],
      "execution_count": null,
      "outputs": []
    },
    {
      "cell_type": "code",
      "metadata": {
        "id": "o8Q3efzMFtN6"
      },
      "source": [
        "y_train_one_hot = one_hot_encoder.fit_transform(y_train)\n",
        "y_test_one_hot = one_hot_encoder.transform(y_test)"
      ],
      "execution_count": null,
      "outputs": []
    },
    {
      "cell_type": "code",
      "metadata": {
        "id": "wb3k5KIsFvJv"
      },
      "source": [
        "X_train = X_train.reshape(X_train.shape[0], X_train.shape[1], X_train.shape[2], 1)\n",
        "X_test = X_test.reshape(X_test.shape[0], X_test.shape[1], X_test.shape[2], 1)"
      ],
      "execution_count": null,
      "outputs": []
    },
    {
      "cell_type": "code",
      "metadata": {
        "id": "l0bjV_bmJXpl"
      },
      "source": [
        "import keras\n",
        "from keras.models import Sequential\n",
        "from keras.layers import Dense, Dropout, Activation, Flatten,BatchNormalization\n",
        "from keras.layers import Conv1D, MaxPooling1D,GlobalAveragePooling1D,AveragePooling1D,Convolution1D\n",
        "from keras.regularizers import l2\n",
        "from sklearn.model_selection import StratifiedKFold\n",
        "\n",
        "model = Sequential()\n",
        "model.add(Conv2D(filters=8, kernel_size=5, activation='relu', input_shape=(200,200,1)))\n",
        "model.add(Conv2D(filters=16, kernel_size=3, activation='relu'))\n",
        "model.add(Conv2D(filters=24, kernel_size=3, activation='relu'))\n",
        "model.add(MaxPool2D(pool_size=2))\n",
        "model.add(Flatten())\n",
        "model.add(Dense(100, activation='relu'))\n",
        "model.add(Dropout(0.5))\n",
        "model.add(Dense(2,activation = 'softmax'))"
      ],
      "execution_count": null,
      "outputs": []
    },
    {
      "cell_type": "code",
      "metadata": {
        "id": "FrjO5Wd4JXsE"
      },
      "source": [
        "opt = keras.optimizers.Adam(learning_rate=0.001, beta_1=0.9, beta_2=0.999)\n",
        "model.compile(loss='categorical_crossentropy', optimizer='adam', metrics=['acc'])\n",
        "model.summary()"
      ],
      "execution_count": null,
      "outputs": []
    },
    {
      "cell_type": "code",
      "metadata": {
        "id": "Yf9zbT_UJXwA"
      },
      "source": [
        "hist=model.fit(X_train, y_train_one_hot, epochs=25, validation_data=(X_test, y_test_one_hot))"
      ],
      "execution_count": null,
      "outputs": []
    },
    {
      "cell_type": "code",
      "metadata": {
        "id": "LUylUV1AKt2k"
      },
      "source": [
        "y_pred_class=model.predict_classes(X_test)\n",
        "print(y_pred_class)"
      ],
      "execution_count": null,
      "outputs": []
    },
    {
      "cell_type": "code",
      "metadata": {
        "id": "lBd-UY-GPCND"
      },
      "source": [
        "from sklearn.preprocessing import LabelEncoder\n",
        "labelencoder = LabelEncoder()\n",
        "yy= labelencoder.fit_transform(y_test)\n",
        "print(yy)"
      ],
      "execution_count": null,
      "outputs": []
    },
    {
      "cell_type": "code",
      "metadata": {
        "id": "s-orfgJJKt5D"
      },
      "source": [
        "from sklearn.metrics import confusion_matrix\n",
        "cm=confusion_matrix(yy,y_pred_class)\n",
        "print(cm)"
      ],
      "execution_count": null,
      "outputs": []
    },
    {
      "cell_type": "code",
      "metadata": {
        "id": "edz4IFAyTALu"
      },
      "source": [
        "acc=(cm[0][0]+cm[1][1])/(cm[1][0]+cm[0][1]+cm[0][0]+cm[1][1])\n",
        "R1=(cm[0][0])/(cm[0][0]+cm[0][1])\n",
        "P1=(cm[1][1])/(cm[1][0]+cm[1][1])\n",
        "F1=(2*R1*P1)/(R1+P1)\n",
        "    \n",
        "print(acc,R1,P1,F1)"
      ],
      "execution_count": null,
      "outputs": []
    },
    {
      "cell_type": "code",
      "metadata": {
        "id": "VqxwaLRbrWHQ"
      },
      "source": [
        "from sklearn.metrics import confusion_matrix, classification_report,accuracy_score,recall_score,precision_score\n",
        "print(classification_report(yy,y_pred_class))\n",
        "CM=confusion_matrix( yy,y_pred_class)\n",
        "from mlxtend.plotting import plot_confusion_matrix\n",
        "fig, ax = plot_confusion_matrix(conf_mat=CM ,  figsize=(5, 5))\n",
        "plt.show()\n",
        "accuracy_score(yy,y_pred_class)\n",
        "recall_score(yy,y_pred_class, average=None)\n",
        "precision_score(yy,y_pred_class, average=None)"
      ],
      "execution_count": null,
      "outputs": []
    },
    {
      "cell_type": "code",
      "metadata": {
        "id": "gLlJ4ZxSqYX6"
      },
      "source": [
        "plt.plot(hist.history['acc'])\n",
        "plt.plot(hist.history['val_acc'])\n",
        "plt.title('Model Accuracy')\n",
        "plt.ylabel('Accuracy')\n",
        "plt.xlabel('Epoch')\n",
        "plt.legend([\"Train_acc\",\"Validation_acc\"])\n",
        "plt.show()\n",
        "\n",
        "plt.plot(hist.history['loss'])\n",
        "plt.plot(hist.history['val_loss'])\n",
        "plt.title('Model Loss')\n",
        "plt.ylabel('Loss')\n",
        "plt.xlabel('Epoch')\n",
        "plt.legend([\"Train_loss\",\"Validation Loss\"])\n",
        "plt.show()"
      ],
      "execution_count": null,
      "outputs": []
    },
    {
      "cell_type": "markdown",
      "metadata": {
        "id": "kZpK9pu8WvSj"
      },
      "source": [
        "model2"
      ]
    },
    {
      "cell_type": "code",
      "metadata": {
        "id": "TwGjCeBZWuBv"
      },
      "source": [
        "model = Sequential()\n",
        "model.add(Conv2D(filters=16, kernel_size=5, activation='relu', input_shape=(200,200,1)))\n",
        "model.add(Conv2D(filters=24, kernel_size=3, activation='relu'))\n",
        "model.add(MaxPool2D(pool_size=2))\n",
        "model.add(Conv2D(filters=32, kernel_size=3, activation='relu'))\n",
        "model.add(MaxPool2D(pool_size=2))\n",
        "model.add(Flatten())\n",
        "model.add(Dense(100, activation='relu'))\n",
        "model.add(Dropout(0.25))\n",
        "model.add(Dense(2,activation = 'softmax'))"
      ],
      "execution_count": null,
      "outputs": []
    },
    {
      "cell_type": "code",
      "metadata": {
        "id": "3LfVH8HiSP1U"
      },
      "source": [
        "model.compile(loss='categorical_crossentropy',optimizer='adam',metrics=['accuracy'])\n",
        "model.summary()"
      ],
      "execution_count": null,
      "outputs": []
    },
    {
      "cell_type": "code",
      "metadata": {
        "id": "S45cwJUnSP4x"
      },
      "source": [
        "hist=model.fit(X_train, y_train_one_hot, epochs=1, validation_data=(X_test, y_test_one_hot))\n"
      ],
      "execution_count": null,
      "outputs": []
    },
    {
      "cell_type": "code",
      "metadata": {
        "id": "zrsee7G2SP79"
      },
      "source": [
        "y_pred_class=model.predict_classes(X_test)\n",
        "print(y_pred_class)"
      ],
      "execution_count": null,
      "outputs": []
    },
    {
      "cell_type": "code",
      "metadata": {
        "id": "XxUovcSnSP-G"
      },
      "source": [
        "from sklearn.preprocessing import LabelEncoder\n",
        "labelencoder = LabelEncoder()\n",
        "yy= labelencoder.fit_transform(y_test)\n",
        "print(yy)"
      ],
      "execution_count": null,
      "outputs": []
    },
    {
      "cell_type": "code",
      "metadata": {
        "id": "_HtOZaDfSQAn"
      },
      "source": [
        "from sklearn.metrics import confusion_matrix\n",
        "cm=confusion_matrix(yy,y_pred_class)\n",
        "print(cm)"
      ],
      "execution_count": null,
      "outputs": []
    },
    {
      "cell_type": "code",
      "metadata": {
        "id": "DE-aurraSQDw"
      },
      "source": [
        "acc=(cm[0][0]+cm[1][1])/(cm[1][0]+cm[0][1]+cm[0][0]+cm[1][1])\n",
        "R1=(cm[0][0])/(cm[0][0]+cm[0][1])\n",
        "P1=(cm[1][1])/(cm[1][0]+cm[1][1])\n",
        "F1=(2*R1*P1)/(R1+P1)\n",
        "    \n",
        "print(acc,R1,P1,F1)"
      ],
      "execution_count": null,
      "outputs": []
    },
    {
      "cell_type": "code",
      "metadata": {
        "id": "GEZnbgdbtoH2"
      },
      "source": [
        "from sklearn.metrics import confusion_matrix, classification_report,accuracy_score,recall_score,precision_score\n",
        "print(classification_report(yy,y_pred_class))\n",
        "CM=confusion_matrix( yy,y_pred_class)\n",
        "from mlxtend.plotting import plot_confusion_matrix\n",
        "fig, ax = plot_confusion_matrix(conf_mat=CM ,  figsize=(5, 5))\n",
        "plt.show()\n",
        "accuracy_score(yy,y_pred_class)\n",
        "recall_score(yy,y_pred_class, average=None)\n",
        "precision_score(yy,y_pred_class, average=None)"
      ],
      "execution_count": null,
      "outputs": []
    },
    {
      "cell_type": "code",
      "metadata": {
        "id": "QatrBcBvR9zh"
      },
      "source": [
        "plt.plot(hist.history['accuracy'])\n",
        "plt.plot(hist.history['val_accuracy'])\n",
        "plt.title('Model Accuracy')\n",
        "plt.ylabel('Accuracy')\n",
        "plt.xlabel('Epoch')\n",
        "plt.legend([\"Train_acc\",\"Validation_acc\"])\n",
        "plt.show()\n",
        "\n",
        "plt.plot(hist.history['loss'])\n",
        "plt.plot(hist.history['val_loss'])\n",
        "plt.title('Model Loss')\n",
        "plt.ylabel('Loss')\n",
        "plt.xlabel('Epoch')\n",
        "plt.legend([\"Train_loss\",\"Validation Loss\"])\n",
        "plt.show()"
      ],
      "execution_count": null,
      "outputs": []
    },
    {
      "cell_type": "markdown",
      "metadata": {
        "id": "18aTMQfli_cG"
      },
      "source": [
        "model 3"
      ]
    },
    {
      "cell_type": "code",
      "metadata": {
        "id": "opY7n81rSQGT"
      },
      "source": [
        "model = Sequential()\n",
        "model.add(Conv2D(filters=24, kernel_size=5, activation='relu', input_shape=(200,200,1)))\n",
        "model.add(Conv2D(filters=16, kernel_size=3, activation='relu'))\n",
        "model.add(MaxPool2D(pool_size=2))\n",
        "model.add(Dense(100, activation='relu'))\n",
        "model.add(Conv2D(filters=8, kernel_size=3, activation='relu'))\n",
        "model.add(MaxPool2D(pool_size=2))\n",
        "model.add(Flatten())\n",
        "model.add(Dense(200, activation='relu'))\n",
        "model.add(Dense(2,activation = 'softmax'))"
      ],
      "execution_count": null,
      "outputs": []
    },
    {
      "cell_type": "code",
      "metadata": {
        "id": "rnYoeIhzi4XV"
      },
      "source": [
        "model.compile(loss='categorical_crossentropy',optimizer='adam',metrics=['accuracy'])\n",
        "model.summary()"
      ],
      "execution_count": null,
      "outputs": []
    },
    {
      "cell_type": "code",
      "metadata": {
        "id": "CDbJ1eXSi4ag"
      },
      "source": [
        "hist=model.fit(X_train, y_train_one_hot, epochs=1, validation_data=(X_test, y_test_one_hot))\n"
      ],
      "execution_count": null,
      "outputs": []
    },
    {
      "cell_type": "code",
      "metadata": {
        "id": "repK2OHui4eK"
      },
      "source": [
        "y_pred_class=model.predict_classes(X_test)\n",
        "print(y_pred_class)"
      ],
      "execution_count": null,
      "outputs": []
    },
    {
      "cell_type": "code",
      "metadata": {
        "id": "tc2rm6LRi4gi"
      },
      "source": [
        "from sklearn.preprocessing import LabelEncoder\n",
        "labelencoder = LabelEncoder()\n",
        "yy= labelencoder.fit_transform(y_test)\n",
        "print(yy)"
      ],
      "execution_count": null,
      "outputs": []
    },
    {
      "cell_type": "code",
      "metadata": {
        "id": "kFaYXcLNi4kr"
      },
      "source": [
        "from sklearn.metrics import confusion_matrix\n",
        "cm=confusion_matrix(yy,y_pred_class)\n",
        "print(cm)"
      ],
      "execution_count": null,
      "outputs": []
    },
    {
      "cell_type": "code",
      "metadata": {
        "id": "vDpo9aJxi4mV"
      },
      "source": [
        "acc=(cm[0][0]+cm[1][1])/(cm[1][0]+cm[0][1]+cm[0][0]+cm[1][1])\n",
        "R1=(cm[0][0])/(cm[0][0]+cm[0][1])\n",
        "P1=(cm[1][1])/(cm[1][0]+cm[1][1])\n",
        "F1=(2*R1*P1)/(R1+P1)\n",
        "    \n",
        "print(acc,R1,P1,F1)"
      ],
      "execution_count": null,
      "outputs": []
    },
    {
      "cell_type": "code",
      "metadata": {
        "id": "oCVnX8pftvQE"
      },
      "source": [
        "from sklearn.metrics import confusion_matrix, classification_report,accuracy_score,recall_score,precision_score\n",
        "print(classification_report(yy,y_pred_class))\n",
        "CM=confusion_matrix( yy,y_pred_class)\n",
        "from mlxtend.plotting import plot_confusion_matrix\n",
        "fig, ax = plot_confusion_matrix(conf_mat=CM ,  figsize=(5, 5))\n",
        "plt.show()\n",
        "accuracy_score(yy,y_pred_class)\n",
        "recall_score(yy,y_pred_class, average=None)\n",
        "precision_score(yy,y_pred_class, average=None)"
      ],
      "execution_count": null,
      "outputs": []
    },
    {
      "cell_type": "code",
      "metadata": {
        "id": "lL-e7jdCSAR_"
      },
      "source": [
        "plt.plot(hist.history['accuracy'])\n",
        "plt.plot(hist.history['val_accuracy'])\n",
        "plt.title('Model Accuracy')\n",
        "plt.ylabel('Accuracy')\n",
        "plt.xlabel('Epoch')\n",
        "plt.legend([\"Train_acc\",\"Validation_acc\"])\n",
        "plt.show()\n",
        "\n",
        "plt.plot(hist.history['loss'])\n",
        "plt.plot(hist.history['val_loss'])\n",
        "plt.title('Model Loss')\n",
        "plt.ylabel('Loss')\n",
        "plt.xlabel('Epoch')\n",
        "plt.legend([\"Train_loss\",\"Validation Loss\"])\n",
        "plt.show()"
      ],
      "execution_count": null,
      "outputs": []
    },
    {
      "cell_type": "markdown",
      "metadata": {
        "id": "7tkW7g0rl-No"
      },
      "source": [
        "model4"
      ]
    },
    {
      "cell_type": "code",
      "metadata": {
        "id": "ImCa_Rqai4pT"
      },
      "source": [
        "model = Sequential()\n",
        "model.add(Conv2D(filters=32, kernel_size=5, activation='relu', input_shape=(200,200,1)))\n",
        "model.add(MaxPool2D(pool_size=2))\n",
        "model.add(Conv2D(filters=24, kernel_size=3, activation='relu'))\n",
        "model.add(MaxPool2D(pool_size=2))\n",
        "model.add(Dropout(0.25))\n",
        "model.add(Conv2D(filters=16, kernel_size=3, activation='relu'))\n",
        "model.add(MaxPool2D(pool_size=2))\n",
        "model.add(Flatten())\n",
        "model.add(Dense(100, activation='relu'))\n",
        "model.add(Dropout(0.5))\n",
        "model.add(Dense(2,activation = 'softmax'))"
      ],
      "execution_count": null,
      "outputs": []
    },
    {
      "cell_type": "code",
      "metadata": {
        "id": "mMkzOT2Ri4sU"
      },
      "source": [
        "model.compile(loss='categorical_crossentropy',optimizer='adam',metrics=['accuracy'])\n",
        "model.summary()"
      ],
      "execution_count": null,
      "outputs": []
    },
    {
      "cell_type": "code",
      "metadata": {
        "id": "O7N91YgRSQJb"
      },
      "source": [
        "hist=model.fit(X_train, y_train_one_hot, epochs=1, validation_data=(X_test, y_test_one_hot))\n"
      ],
      "execution_count": null,
      "outputs": []
    },
    {
      "cell_type": "code",
      "metadata": {
        "id": "GWrvEHvrlBXN"
      },
      "source": [
        "y_pred_class=model.predict_classes(X_test)\n",
        "print(y_pred_class)"
      ],
      "execution_count": null,
      "outputs": []
    },
    {
      "cell_type": "code",
      "metadata": {
        "id": "iTjS8DEHlBmD"
      },
      "source": [
        "from sklearn.preprocessing import LabelEncoder\n",
        "labelencoder = LabelEncoder()\n",
        "yy= labelencoder.fit_transform(y_test)\n",
        "print(yy)"
      ],
      "execution_count": null,
      "outputs": []
    },
    {
      "cell_type": "code",
      "metadata": {
        "id": "eYdITeL8lB4k"
      },
      "source": [
        "from sklearn.metrics import confusion_matrix\n",
        "cm=confusion_matrix(yy,y_pred_class)\n",
        "print(cm)"
      ],
      "execution_count": null,
      "outputs": []
    },
    {
      "cell_type": "code",
      "metadata": {
        "id": "Ht6kB9CblCAR"
      },
      "source": [
        "acc=(cm[0][0]+cm[1][1])/(cm[1][0]+cm[0][1]+cm[0][0]+cm[1][1])\n",
        "R1=(cm[0][0])/(cm[0][0]+cm[0][1])\n",
        "P1=(cm[1][1])/(cm[1][0]+cm[1][1])\n",
        "F1=(2*R1*P1)/(R1+P1)\n",
        "    \n",
        "print(acc,R1,P1,F1)"
      ],
      "execution_count": null,
      "outputs": []
    },
    {
      "cell_type": "code",
      "metadata": {
        "id": "SKOgS_XxtSD2"
      },
      "source": [
        "from sklearn.metrics import confusion_matrix, classification_report,accuracy_score,recall_score,precision_score\n",
        "print(classification_report(yy,y_pred_class))\n",
        "CM=confusion_matrix( yy,y_pred_class)\n",
        "from mlxtend.plotting import plot_confusion_matrix\n",
        "fig, ax = plot_confusion_matrix(conf_mat=CM ,  figsize=(5, 5))\n",
        "plt.show()\n",
        "accuracy_score(yy,y_pred_class)\n",
        "recall_score(yy,y_pred_class, average=None)\n",
        "precision_score(yy,y_pred_class, average=None)"
      ],
      "execution_count": null,
      "outputs": []
    },
    {
      "cell_type": "code",
      "metadata": {
        "id": "fbrz7o9WSCjL"
      },
      "source": [
        "plt.plot(hist.history['accuracy'])\n",
        "plt.plot(hist.history['val_accuracy'])\n",
        "plt.title('Model Accuracy')\n",
        "plt.ylabel('Accuracy')\n",
        "plt.xlabel('Epoch')\n",
        "plt.legend([\"Train_acc\",\"Validation_acc\"])\n",
        "plt.show()\n",
        "\n",
        "plt.plot(hist.history['loss'])\n",
        "plt.plot(hist.history['val_loss'])\n",
        "plt.title('Model Loss')\n",
        "plt.ylabel('Loss')\n",
        "plt.xlabel('Epoch')\n",
        "plt.legend([\"Train_loss\",\"Validation Loss\"])\n",
        "plt.show()"
      ],
      "execution_count": null,
      "outputs": []
    },
    {
      "cell_type": "markdown",
      "metadata": {
        "id": "r330zdHKlWG0"
      },
      "source": [
        "model5"
      ]
    },
    {
      "cell_type": "code",
      "metadata": {
        "id": "-ivpuz5ulCDQ"
      },
      "source": [
        "model = Sequential()\n",
        "model.add(Conv1D(filters=32, kernel_size=5, activation='relu', input_shape=(200,200,1)))\n",
        "model.add(MaxPool2D(pool_size=2))\n",
        "\n",
        "model.add(Conv1D(filters=64, kernel_size=3, activation='relu'))\n",
        "model.add(MaxPool2D(pool_size=2))\n",
        "model.add(Dense(100, activation='relu'))\n",
        "model.add(Conv1D(filters=128, kernel_size=3, activation='relu'))\n",
        "model.add(MaxPool2D(pool_size=2))\n",
        "model.add(Flatten())\n",
        "model.add(Dense(200, activation='relu'))\n",
        "model.add(Dropout(0.5))\n",
        "model.add(Dense(2,activation = 'softmax'))"
      ],
      "execution_count": null,
      "outputs": []
    },
    {
      "cell_type": "code",
      "metadata": {
        "id": "t1H3PRwIlT4x"
      },
      "source": [
        "model.compile(loss='categorical_crossentropy',optimizer='adam',metrics=['accuracy'])\n",
        "model.summary()"
      ],
      "execution_count": null,
      "outputs": []
    },
    {
      "cell_type": "code",
      "metadata": {
        "id": "stJO6VQMlT8K"
      },
      "source": [
        "hist=model.fit(X_train, y_train_one_hot, epochs=25, validation_data=(X_test, y_test_one_hot))\n"
      ],
      "execution_count": null,
      "outputs": []
    },
    {
      "cell_type": "code",
      "metadata": {
        "id": "RTKbMraqlT-z"
      },
      "source": [
        "y_pred_class=model.predict_classes(X_test)\n",
        "print(y_pred_class)"
      ],
      "execution_count": null,
      "outputs": []
    },
    {
      "cell_type": "code",
      "metadata": {
        "id": "fWHJz6NulUBN"
      },
      "source": [
        "from sklearn.preprocessing import LabelEncoder\n",
        "labelencoder = LabelEncoder()\n",
        "yy= labelencoder.fit_transform(y_test)\n",
        "print(yy)"
      ],
      "execution_count": null,
      "outputs": []
    },
    {
      "cell_type": "code",
      "metadata": {
        "id": "e8MXu8COoFZD"
      },
      "source": [
        "from sklearn.metrics import confusion_matrix\n",
        "cm=confusion_matrix(yy,y_pred_class)\n",
        "print(cm)"
      ],
      "execution_count": null,
      "outputs": []
    },
    {
      "cell_type": "code",
      "metadata": {
        "id": "qalFrsdooFis"
      },
      "source": [
        "acc=(cm[0][0]+cm[1][1])/(cm[1][0]+cm[0][1]+cm[0][0]+cm[1][1])\n",
        "R1=(cm[0][0])/(cm[0][0]+cm[0][1])\n",
        "P1=(cm[1][1])/(cm[1][0]+cm[1][1])\n",
        "F1=(2*R1*P1)/(R1+P1)\n",
        "    \n",
        "print(acc,R1,P1,F1)"
      ],
      "execution_count": null,
      "outputs": []
    },
    {
      "cell_type": "code",
      "metadata": {
        "id": "CCtU828JlUpg"
      },
      "source": [
        "from sklearn.metrics import confusion_matrix, classification_report,accuracy_score,recall_score,precision_score\n",
        "print(classification_report(yy,y_pred_class))\n",
        "CM=confusion_matrix( yy,y_pred_class)\n",
        "from mlxtend.plotting import plot_confusion_matrix\n",
        "fig, ax = plot_confusion_matrix(conf_mat=CM ,  figsize=(5, 5))\n",
        "plt.show()\n",
        "accuracy_score(yy,y_pred_class)\n",
        "recall_score(yy,y_pred_class, average=None)\n",
        "precision_score(yy,y_pred_class, average=None)"
      ],
      "execution_count": null,
      "outputs": []
    },
    {
      "cell_type": "code",
      "metadata": {
        "id": "FMFJeSyISFbR"
      },
      "source": [
        "plt.plot(hist.history['accuracy'])\n",
        "plt.plot(hist.history['val_accuracy'])\n",
        "plt.title('Model Accuracy')\n",
        "plt.ylabel('Accuracy')\n",
        "plt.xlabel('Epoch')\n",
        "plt.legend([\"Train_acc\",\"Validation_acc\"])\n",
        "plt.show()\n",
        "\n",
        "plt.plot(hist.history['loss'])\n",
        "plt.plot(hist.history['val_loss'])\n",
        "plt.title('Model Loss')\n",
        "plt.ylabel('Loss')\n",
        "plt.xlabel('Epoch')\n",
        "plt.legend([\"Train_loss\",\"Validation Loss\"])\n",
        "plt.show()"
      ],
      "execution_count": null,
      "outputs": []
    },
    {
      "cell_type": "markdown",
      "metadata": {
        "id": "SysVOnxCt-PI"
      },
      "source": [
        "model6"
      ]
    },
    {
      "cell_type": "code",
      "metadata": {
        "id": "5M30gccqlUsH"
      },
      "source": [
        "model = Sequential()\n",
        "model.add(Conv2D(filters=24, kernel_size=5, activation='relu', input_shape=(200,200,1)))\n",
        "model.add(Conv2D(filters=32, kernel_size=3, activation='relu'))\n",
        "model.add(MaxPool2D(pool_size=2))\n",
        "\n",
        "model.add(Conv2D(filters=64, kernel_size=3, activation='relu'))\n",
        "\n",
        "model.add(MaxPool2D(pool_size=2))\n",
        "model.add(Flatten())\n",
        "model.add(Flatten())\n",
        "model.add(Dense(100, activation='relu'))\n",
        "model.add(Dense(2,activation = 'softmax'))"
      ],
      "execution_count": null,
      "outputs": []
    },
    {
      "cell_type": "code",
      "metadata": {
        "id": "VPvHhblSlUvl"
      },
      "source": [
        "model.compile(loss='categorical_crossentropy',optimizer='adam',metrics=['accuracy'])\n",
        "model.summary()"
      ],
      "execution_count": null,
      "outputs": []
    },
    {
      "cell_type": "code",
      "metadata": {
        "id": "UyRNny-ulCGR"
      },
      "source": [
        "hist=model.fit(X_train, y_train_one_hot, epochs=25, validation_data=(X_test, y_test_one_hot))\n"
      ],
      "execution_count": null,
      "outputs": []
    },
    {
      "cell_type": "code",
      "metadata": {
        "id": "mnkdudQrlCJY"
      },
      "source": [
        "y_pred_class=model.predict_classes(X_test)\n",
        "print(y_pred_class)"
      ],
      "execution_count": null,
      "outputs": []
    },
    {
      "cell_type": "code",
      "metadata": {
        "id": "7nkGKipYlCMx"
      },
      "source": [
        "from sklearn.preprocessing import LabelEncoder\n",
        "labelencoder = LabelEncoder()\n",
        "yy= labelencoder.fit_transform(y_test)\n",
        "print(yy)"
      ],
      "execution_count": null,
      "outputs": []
    },
    {
      "cell_type": "code",
      "metadata": {
        "id": "Hhd4nLd4-w_8"
      },
      "source": [
        "from sklearn.metrics import confusion_matrix\n",
        "cm=confusion_matrix(yy,y_pred_class)\n",
        "print(cm)"
      ],
      "execution_count": null,
      "outputs": []
    },
    {
      "cell_type": "code",
      "metadata": {
        "id": "E-O91RZT-05N"
      },
      "source": [
        "acc=(cm[0][0]+cm[1][1])/(cm[1][0]+cm[0][1]+cm[0][0]+cm[1][1])\n",
        "R1=(cm[0][0])/(cm[0][0]+cm[0][1])\n",
        "P1=(cm[1][1])/(cm[1][0]+cm[1][1])\n",
        "F1=(2*R1*P1)/(R1+P1)\n",
        "    \n",
        "print(acc,R1,P1,F1)"
      ],
      "execution_count": null,
      "outputs": []
    },
    {
      "cell_type": "code",
      "metadata": {
        "id": "cUqGVUok-07-"
      },
      "source": [
        "from sklearn.metrics import confusion_matrix, classification_report,accuracy_score,recall_score,precision_score\n",
        "print(classification_report(yy,y_pred_class))\n",
        "CM=confusion_matrix( yy,y_pred_class)\n",
        "from mlxtend.plotting import plot_confusion_matrix\n",
        "fig, ax = plot_confusion_matrix(conf_mat=CM ,  figsize=(5, 5))\n",
        "plt.show()\n",
        "accuracy_score(yy,y_pred_class)\n",
        "#recall_score(yy,y_pred_class, average=None)\n",
        "#precision_score(yy,y_pred_class, average=None)"
      ],
      "execution_count": null,
      "outputs": []
    },
    {
      "cell_type": "code",
      "metadata": {
        "id": "ITS-ZHr_SIFH"
      },
      "source": [
        "plt.plot(hist.history['accuracy'])\n",
        "plt.plot(hist.history['val_accuracy'])\n",
        "plt.title('Model Accuracy')\n",
        "plt.ylabel('Accuracy')\n",
        "plt.xlabel('Epoch')\n",
        "plt.legend([\"Train_acc\",\"Validation_acc\"])\n",
        "plt.show()\n",
        "\n",
        "plt.plot(hist.history['loss'])\n",
        "plt.plot(hist.history['val_loss'])\n",
        "plt.title('Model Loss')\n",
        "plt.ylabel('Loss')\n",
        "plt.xlabel('Epoch')\n",
        "plt.legend([\"Train_loss\",\"Validation Loss\"])\n",
        "plt.show()"
      ],
      "execution_count": null,
      "outputs": []
    },
    {
      "cell_type": "markdown",
      "metadata": {
        "id": "va5Z2IIVA5L4"
      },
      "source": [
        "model7"
      ]
    },
    {
      "cell_type": "code",
      "metadata": {
        "id": "kHnC0C-A-0-i"
      },
      "source": [
        "model = Sequential()\n",
        "model.add(Conv2D(filters=16, kernel_size=5, activation='relu', input_shape=(200,200,1)))\n",
        "model.add(MaxPool2D(pool_size=2))\n",
        "\n",
        "model.add(Conv2D(filters=8, kernel_size=3, activation='relu'))\n",
        "model.add(MaxPool2D(pool_size=2))\n",
        "model.add(Flatten())\n",
        "model.add(Dense(100, activation='relu'))\n",
        "model.add(Dropout(0.5))\n",
        "model.add(Dense(2,activation = 'softmax'))"
      ],
      "execution_count": null,
      "outputs": []
    },
    {
      "cell_type": "code",
      "metadata": {
        "id": "VaEzz5Ue-1B4"
      },
      "source": [
        "model.compile(loss='categorical_crossentropy',optimizer='adam',metrics=['accuracy'])\n",
        "model.summary()"
      ],
      "execution_count": null,
      "outputs": []
    },
    {
      "cell_type": "code",
      "metadata": {
        "id": "_V8JAJEy-1E0"
      },
      "source": [
        "hist=model.fit(X_train, y_train_one_hot, epochs=25, validation_data=(X_test, y_test_one_hot))\n"
      ],
      "execution_count": null,
      "outputs": []
    },
    {
      "cell_type": "code",
      "metadata": {
        "id": "xvGnzONQ-xL6"
      },
      "source": [
        "y_pred_class=model.predict_classes(X_test)\n",
        "print(y_pred_class)"
      ],
      "execution_count": null,
      "outputs": []
    },
    {
      "cell_type": "code",
      "metadata": {
        "id": "g1VVlVaPAdWD"
      },
      "source": [
        "from sklearn.preprocessing import LabelEncoder\n",
        "labelencoder = LabelEncoder()\n",
        "yy= labelencoder.fit_transform(y_test)\n",
        "print(yy)"
      ],
      "execution_count": null,
      "outputs": []
    },
    {
      "cell_type": "code",
      "metadata": {
        "id": "O8K6aNBGAdZL"
      },
      "source": [
        "from sklearn.metrics import confusion_matrix\n",
        "cm=confusion_matrix(yy,y_pred_class)\n",
        "print(cm)"
      ],
      "execution_count": null,
      "outputs": []
    },
    {
      "cell_type": "code",
      "metadata": {
        "id": "3IdDHurrAdd0"
      },
      "source": [
        "acc=(cm[0][0]+cm[1][1])/(cm[1][0]+cm[0][1]+cm[0][0]+cm[1][1])\n",
        "R1=(cm[0][0])/(cm[0][0]+cm[0][1])\n",
        "P1=(cm[1][1])/(cm[1][0]+cm[1][1])\n",
        "F1=(2*R1*P1)/(R1+P1)\n",
        "    \n",
        "print(acc,R1,P1,F1)"
      ],
      "execution_count": null,
      "outputs": []
    },
    {
      "cell_type": "code",
      "metadata": {
        "id": "EZR8R_cNAdhl"
      },
      "source": [
        "from sklearn.metrics import confusion_matrix, classification_report,accuracy_score,recall_score,precision_score\n",
        "print(classification_report(yy,y_pred_class))\n",
        "CM=confusion_matrix( yy,y_pred_class)\n",
        "from mlxtend.plotting import plot_confusion_matrix\n",
        "fig, ax = plot_confusion_matrix(conf_mat=CM ,  figsize=(5, 5))\n",
        "plt.show()\n",
        "accuracy_score(yy,y_pred_class)\n",
        "#recall_score(yy,y_pred_class, average=None)\n",
        "#precision_score(yy,y_pred_class, average=None)"
      ],
      "execution_count": null,
      "outputs": []
    },
    {
      "cell_type": "code",
      "metadata": {
        "id": "INFWoCvFSKhe"
      },
      "source": [
        "plt.plot(hist.history['accuracy'])\n",
        "plt.plot(hist.history['val_accuracy'])\n",
        "plt.title('Model Accuracy')\n",
        "plt.ylabel('Accuracy')\n",
        "plt.xlabel('Epoch')\n",
        "plt.legend([\"Train_acc\",\"Validation_acc\"])\n",
        "plt.show()\n",
        "\n",
        "plt.plot(hist.history['loss'])\n",
        "plt.plot(hist.history['val_loss'])\n",
        "plt.title('Model Loss')\n",
        "plt.ylabel('Loss')\n",
        "plt.xlabel('Epoch')\n",
        "plt.legend([\"Train_loss\",\"Validation Loss\"])\n",
        "plt.show()"
      ],
      "execution_count": null,
      "outputs": []
    },
    {
      "cell_type": "markdown",
      "metadata": {
        "id": "k4qZO_8iA8Lh"
      },
      "source": [
        "model8"
      ]
    },
    {
      "cell_type": "code",
      "metadata": {
        "id": "YRPtPfCmAdkd"
      },
      "source": [
        "model = Sequential()\n",
        "model.add(Conv2D(filters=24, kernel_size=5, activation='relu', input_shape=(200,200,1)))\n",
        "model.add(Conv2D(filters=16, kernel_size=3, activation='relu'))\n",
        "model.add(Dense(100, activation='relu'))\n",
        "model.add(Dropout(0.25))\n",
        "model.add(Conv2D(filters=8, kernel_size=3, activation='relu'))\n",
        "model.add(MaxPool2D(pool_size=2))\n",
        "model.add(Flatten())\n",
        "model.add(Dense(100, activation='relu'))\n",
        "model.add(Dropout(0.5))\n",
        "model.add(Dense(2,activation = 'softmax'))"
      ],
      "execution_count": null,
      "outputs": []
    },
    {
      "cell_type": "code",
      "metadata": {
        "id": "sDGJNZ6RDOVn"
      },
      "source": [
        "model.compile(loss='categorical_crossentropy',optimizer='adam',metrics=['accuracy'])\n",
        "model.summary()"
      ],
      "execution_count": null,
      "outputs": []
    },
    {
      "cell_type": "code",
      "metadata": {
        "colab": {
          "background_save": true
        },
        "id": "GA-UDelJDPRV"
      },
      "source": [
        "hist=model.fit(X_train, y_train_one_hot, epochs=25, validation_data=(X_test, y_test_one_hot))\n"
      ],
      "execution_count": null,
      "outputs": []
    },
    {
      "cell_type": "code",
      "metadata": {
        "id": "fbpnCSUgDgdn"
      },
      "source": [
        "y_pred_class=model.predict_classes(X_test)\n",
        "print(y_pred_class)"
      ],
      "execution_count": null,
      "outputs": []
    },
    {
      "cell_type": "code",
      "metadata": {
        "id": "9HR1LTRfDgga"
      },
      "source": [
        "from sklearn.preprocessing import LabelEncoder\n",
        "labelencoder = LabelEncoder()\n",
        "yy= labelencoder.fit_transform(y_test)\n",
        "print(yy)"
      ],
      "execution_count": null,
      "outputs": []
    },
    {
      "cell_type": "code",
      "metadata": {
        "id": "s7HKIxBdDgjU"
      },
      "source": [
        "from sklearn.metrics import confusion_matrix\n",
        "cm=confusion_matrix(yy,y_pred_class)\n",
        "print(cm)"
      ],
      "execution_count": null,
      "outputs": []
    },
    {
      "cell_type": "code",
      "metadata": {
        "id": "VkkqAhcWDgmM"
      },
      "source": [
        "acc=(cm[0][0]+cm[1][1])/(cm[1][0]+cm[0][1]+cm[0][0]+cm[1][1])\n",
        "R1=(cm[0][0])/(cm[0][0]+cm[0][1])\n",
        "P1=(cm[1][1])/(cm[1][0]+cm[1][1])\n",
        "F1=(2*R1*P1)/(R1+P1)\n",
        "    \n",
        "print(acc,R1,P1,F1)"
      ],
      "execution_count": null,
      "outputs": []
    },
    {
      "cell_type": "code",
      "metadata": {
        "id": "rysNm4vrDgpL"
      },
      "source": [
        "from sklearn.metrics import confusion_matrix, classification_report,accuracy_score,recall_score,precision_score\n",
        "print(classification_report(yy,y_pred_class))\n",
        "CM=confusion_matrix( yy,y_pred_class)\n",
        "from mlxtend.plotting import plot_confusion_matrix\n",
        "fig, ax = plot_confusion_matrix(conf_mat=CM ,  figsize=(5, 5))\n",
        "plt.show()\n",
        "accuracy_score(yy,y_pred_class)\n",
        "#recall_score(yy,y_pred_class, average=None)\n",
        "#precision_score(yy,y_pred_class, average=None)"
      ],
      "execution_count": null,
      "outputs": []
    },
    {
      "cell_type": "code",
      "metadata": {
        "id": "71Cu9RYQDgsF"
      },
      "source": [
        "plt.plot(hist.history['accuracy'])\n",
        "plt.plot(hist.history['val_accuracy'])\n",
        "plt.title('Model Accuracy')\n",
        "plt.ylabel('Accuracy')\n",
        "plt.xlabel('Epoch')\n",
        "plt.legend([\"Train_acc\",\"Validation_acc\"])\n",
        "plt.show()\n",
        "\n",
        "plt.plot(hist.history['loss'])\n",
        "plt.plot(hist.history['val_loss'])\n",
        "plt.title('Model Loss')\n",
        "plt.ylabel('Loss')\n",
        "plt.xlabel('Epoch')\n",
        "plt.legend([\"Train_loss\",\"Validation Loss\"])\n",
        "plt.show()"
      ],
      "execution_count": null,
      "outputs": []
    },
    {
      "cell_type": "code",
      "metadata": {
        "id": "TY1QIx_I0qUc"
      },
      "source": [
        ""
      ],
      "execution_count": null,
      "outputs": []
    },
    {
      "cell_type": "code",
      "metadata": {
        "id": "wG9_Ej4b0qUc"
      },
      "source": [
        ""
      ],
      "execution_count": null,
      "outputs": []
    },
    {
      "cell_type": "code",
      "metadata": {
        "id": "vRXwUhoZ0qUe"
      },
      "source": [
        ""
      ],
      "execution_count": null,
      "outputs": []
    }
  ]
}