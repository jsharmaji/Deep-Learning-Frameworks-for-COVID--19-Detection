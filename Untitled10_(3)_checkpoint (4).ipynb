{
  "nbformat": 4,
  "nbformat_minor": 0,
  "metadata": {
    "colab": {
      "name": "Untitled10 (3)-checkpoint.ipynb",
      "provenance": [],
      "collapsed_sections": []
    },
    "kernelspec": {
      "display_name": "Python 3",
      "language": "python",
      "name": "python3"
    },
    "language_info": {
      "codemirror_mode": {
        "name": "ipython",
        "version": 3
      },
      "file_extension": ".py",
      "mimetype": "text/x-python",
      "name": "python",
      "nbconvert_exporter": "python",
      "pygments_lexer": "ipython3",
      "version": "3.8.5"
    }
  },
  "cells": [
    {
      "cell_type": "code",
      "metadata": {
        "id": "U1h9OtUsCEwl"
      },
      "source": [
        "import os\n",
        "import cv2\n",
        "import pickle\n",
        "import numpy as np\n",
        "import matplotlib.pyplot as plt\n",
        "from tensorflow import keras\n",
        "import seaborn as sns\n",
        "from tqdm import tqdm\n",
        "import tensorflow as tf\n",
        "from sklearn.preprocessing import OneHotEncoder\n",
        "from sklearn.metrics import confusion_matrix\n",
        "from keras.layers import Dense, Input, Conv2D, MaxPool2D, Flatten,Conv3D\n",
        "from keras.models import Model, load_model\n",
        "from tensorflow.keras.preprocessing.image import ImageDataGenerator\n",
        "from time import time"
      ],
      "execution_count": 1,
      "outputs": []
    },
    {
      "cell_type": "code",
      "metadata": {
        "id": "pMLJ8bf2CRvR"
      },
      "source": [
        "def load_normal(norm_path):\n",
        "    norm_files = np.array(os.listdir(norm_path))\n",
        "    norm_labels = np.array(['normal']*len(norm_files))\n",
        "    \n",
        "    norm_images = []\n",
        "    for image in tqdm(norm_files):\n",
        "        image = cv2.imread(norm_path + image)\n",
        "        image = cv2.resize(image, dsize=(200,200))\n",
        "        image = cv2.cvtColor(image, cv2.COLOR_BGR2GRAY)\n",
        "        norm_images.append(image)\n",
        "        \n",
        "    norm_images = np.array(norm_images)\n",
        "    \n",
        "    return norm_images, norm_labels\n",
        "\n",
        "def load_covid(covid_path):\n",
        "    covid_files = np.array(os.listdir(covid_path))\n",
        "    covid_labels = np.array(['covid']*len(covid_files))\n",
        "    \n",
        "    covid_images = []\n",
        "    for image in tqdm(covid_files):\n",
        "        image = cv2.imread(covid_path + image)\n",
        "        image = cv2.resize(image, dsize=(200,200))\n",
        "        image = cv2.cvtColor(image, cv2.COLOR_BGR2GRAY)\n",
        "        covid_images.append(image)\n",
        "        \n",
        "    covid_images = np.array(covid_images)\n",
        "    \n",
        "    return covid_images, covid_labels"
      ],
      "execution_count": 5,
      "outputs": []
    },
    {
      "cell_type": "code",
      "metadata": {
        "colab": {
          "base_uri": "https://localhost:8080/"
        },
        "id": "CR4VUXhkCVXj",
        "outputId": "b49b750c-a575-4dcd-ba15-b043d59b9dbb"
      },
      "source": [
        "from google.colab import drive\n",
        "drive.mount('/content/drive')"
      ],
      "execution_count": 3,
      "outputs": [
        {
          "output_type": "stream",
          "text": [
            "Mounted at /content/drive\n"
          ],
          "name": "stdout"
        }
      ]
    },
    {
      "cell_type": "code",
      "metadata": {
        "colab": {
          "base_uri": "https://localhost:8080/"
        },
        "id": "I-vpF6HmDFdC",
        "outputId": "d65c97e4-e1bd-40d1-874f-7d0c5f2839fb"
      },
      "source": [
        "norm_images, norm_labels = load_normal('/content/drive/My Drive/datasets/Data/train/NORMAL/')\n",
        "covid_images, covid_labels = load_covid('/content/drive/My Drive/datasets/Data/train/COVID19/')"
      ],
      "execution_count": 6,
      "outputs": [
        {
          "output_type": "stream",
          "text": [
            "100%|██████████| 1266/1266 [00:53<00:00, 23.85it/s]\n",
            "100%|██████████| 460/460 [00:18<00:00, 24.62it/s]\n"
          ],
          "name": "stderr"
        }
      ]
    },
    {
      "cell_type": "code",
      "metadata": {
        "id": "QRLI_aChD4wj"
      },
      "source": [
        "X_train = np.append(norm_images, covid_images, axis=0)\n",
        "y_train = np.append(norm_labels, covid_labels)"
      ],
      "execution_count": 7,
      "outputs": []
    },
    {
      "cell_type": "code",
      "metadata": {
        "colab": {
          "base_uri": "https://localhost:8080/",
          "height": 268
        },
        "id": "5k4xt8SkEyUq",
        "outputId": "ecee1a21-ad15-4f67-9059-30ba1f48bbf5"
      },
      "source": [
        "fig, axes = plt.subplots(ncols=7, nrows=2, figsize=(16, 4))\n",
        "\n",
        "indices = np.random.choice(len(X_train), 14)\n",
        "counter = 0\n",
        "\n",
        "for i in range(2):\n",
        "    for j in range(7):\n",
        "        axes[i,j].set_title(y_train[indices[counter]])\n",
        "        axes[i,j].imshow(X_train[indices[counter]], cmap='gray')\n",
        "        axes[i,j].get_xaxis().set_visible(False)\n",
        "        axes[i,j].get_yaxis().set_visible(False)\n",
        "        counter += 1\n",
        "plt.show()"
      ],
      "execution_count": 8,
      "outputs": [
        {
          "output_type": "display_data",
          "data": {
            "image/png": "[encoded data removed]",
            "text/plain": [
              "<Figure size 1152x288 with 14 Axes>"
            ]
          },
          "metadata": {
            "tags": [],
            "needs_background": "light"
          }
        }
      ]
    },
    {
      "cell_type": "code",
      "metadata": {
        "colab": {
          "base_uri": "https://localhost:8080/"
        },
        "id": "Rji_xhaxE0W3",
        "outputId": "f58cb8f0-e0f6-4aff-cc85-6932b28de449"
      },
      "source": [
        "norm_images_test, norm_labels_test = load_normal('/content/drive/My Drive/datasets/Data/test/NORMAL/')\n",
        "covid_images_test, covid_labels_test = load_covid('/content/drive/My Drive/datasets/Data/test/COVID19/')"
      ],
      "execution_count": 9,
      "outputs": [
        {
          "output_type": "stream",
          "text": [
            "100%|██████████| 317/317 [01:39<00:00,  3.19it/s]\n",
            "100%|██████████| 148/148 [01:02<00:00,  2.37it/s]\n"
          ],
          "name": "stderr"
        }
      ]
    },
    {
      "cell_type": "code",
      "metadata": {
        "id": "4CmTQj_RFlNP"
      },
      "source": [
        "X_test = np.append(norm_images_test, covid_images_test, axis=0)\n",
        "y_test = np.append(norm_labels_test, covid_labels_test)"
      ],
      "execution_count": 10,
      "outputs": []
    },
    {
      "cell_type": "code",
      "metadata": {
        "id": "p5p96QCPFp4R"
      },
      "source": [
        "y_train = y_train[:, np.newaxis]\n",
        "y_test = y_test[:, np.newaxis]"
      ],
      "execution_count": 11,
      "outputs": []
    },
    {
      "cell_type": "code",
      "metadata": {
        "id": "z3mN7gQOFrmV"
      },
      "source": [
        "one_hot_encoder = OneHotEncoder(sparse=False)"
      ],
      "execution_count": 12,
      "outputs": []
    },
    {
      "cell_type": "code",
      "metadata": {
        "id": "o8Q3efzMFtN6"
      },
      "source": [
        "y_train_one_hot = one_hot_encoder.fit_transform(y_train)\n",
        "y_test_one_hot = one_hot_encoder.transform(y_test)"
      ],
      "execution_count": 13,
      "outputs": []
    },
    {
      "cell_type": "code",
      "metadata": {
        "id": "wb3k5KIsFvJv"
      },
      "source": [
        "X_train = X_train.reshape(X_train.shape[0], X_train.shape[1], X_train.shape[2], 1)\n",
        "X_test = X_test.reshape(X_test.shape[0], X_test.shape[1], X_test.shape[2], 1)"
      ],
      "execution_count": 14,
      "outputs": []
    },
    {
      "cell_type": "code",
      "metadata": {
        "id": "l0bjV_bmJXpl"
      },
      "source": [
        "import keras\n",
        "from keras.models import Sequential\n",
        "from keras.layers import Dense, Dropout, Activation, Flatten,BatchNormalization\n",
        "from keras.layers import Conv1D, MaxPooling1D,GlobalAveragePooling1D,AveragePooling1D,Convolution1D\n",
        "from keras.regularizers import l2\n",
        "from sklearn.model_selection import StratifiedKFold\n",
        "\n",
        "model = Sequential()\n",
        "model.add(Conv2D(filters=8, kernel_size=5, activation='relu', input_shape=(200,200,1)))\n",
        "model.add(Conv2D(filters=16, kernel_size=3, activation='relu'))\n",
        "model.add(Conv2D(filters=24, kernel_size=3, activation='relu'))\n",
        "model.add(MaxPool2D(pool_size=2))\n",
        "model.add(Flatten())\n",
        "model.add(Dense(100, activation='relu'))\n",
        "model.add(Dropout(0.5))\n",
        "model.add(Dense(2,activation = 'softmax'))"
      ],
      "execution_count": 15,
      "outputs": []
    },
    {
      "cell_type": "code",
      "metadata": {
        "colab": {
          "base_uri": "https://localhost:8080/"
        },
        "id": "FrjO5Wd4JXsE",
        "outputId": "78234a08-48d3-4090-ec82-dc238344e49c"
      },
      "source": [
        "opt = keras.optimizers.Adam(learning_rate=0.001, beta_1=0.9, beta_2=0.999)\n",
        "model.compile(loss='categorical_crossentropy', optimizer='adam', metrics=['acc'])\n",
        "model.summary()"
      ],
      "execution_count": 16,
      "outputs": [
        {
          "output_type": "stream",
          "text": [
            "Model: \"sequential\"\n",
            "_________________________________________________________________\n",
            "Layer (type)                 Output Shape              Param #   \n",
            "=================================================================\n",
            "conv2d (Conv2D)              (None, 196, 196, 8)       208       \n",
            "_________________________________________________________________\n",
            "conv2d_1 (Conv2D)            (None, 194, 194, 16)      1168      \n",
            "_________________________________________________________________\n",
            "conv2d_2 (Conv2D)            (None, 192, 192, 24)      3480      \n",
            "_________________________________________________________________\n",
            "max_pooling2d (MaxPooling2D) (None, 96, 96, 24)        0         \n",
            "_________________________________________________________________\n",
            "flatten (Flatten)            (None, 221184)            0         \n",
            "_________________________________________________________________\n",
            "dense (Dense)                (None, 100)               22118500  \n",
            "_________________________________________________________________\n",
            "dropout (Dropout)            (None, 100)               0         \n",
            "_________________________________________________________________\n",
            "dense_1 (Dense)              (None, 2)                 202       \n",
            "=================================================================\n",
            "Total params: 22,123,558\n",
            "Trainable params: 22,123,558\n",
            "Non-trainable params: 0\n",
            "_________________________________________________________________\n"
          ],
          "name": "stdout"
        }
      ]
    },
    {
      "cell_type": "code",
      "metadata": {
        "colab": {
          "base_uri": "https://localhost:8080/"
        },
        "id": "Yf9zbT_UJXwA",
        "outputId": "51e76e92-4a09-4bf5-a476-747ba141db72"
      },
      "source": [
        "hist=model.fit(X_train, y_train_one_hot, epochs=25, validation_data=(X_test, y_test_one_hot))"
      ],
      "execution_count": null,
      "outputs": [
        {
          "output_type": "stream",
          "text": [
            "Epoch 1/25\n",
            "31/54 [================>.............] - ETA: 51s - loss: 645.6219 - acc: 0.5764"
          ],
          "name": "stdout"
        }
      ]
    },
    {
      "cell_type": "code",
      "metadata": {
        "colab": {
          "base_uri": "https://localhost:8080/"
        },
        "id": "LUylUV1AKt2k",
        "outputId": "1b483d33-f70e-412a-dfd8-c14af5489470"
      },
      "source": [
        "y_pred_class=model.predict_classes(X_test)\n",
        "print(y_pred_class)"
      ],
      "execution_count": null,
      "outputs": [
        {
          "output_type": "stream",
          "text": [
            "/usr/local/lib/python3.7/dist-packages/keras/engine/sequential.py:450: UserWarning: `model.predict_classes()` is deprecated and will be removed after 2021-01-01. Please use instead:* `np.argmax(model.predict(x), axis=-1)`,   if your model does multi-class classification   (e.g. if it uses a `softmax` last-layer activation).* `(model.predict(x) > 0.5).astype(\"int32\")`,   if your model does binary classification   (e.g. if it uses a `sigmoid` last-layer activation).\n",
            "  warnings.warn('`model.predict_classes()` is deprecated and '\n"
          ],
          "name": "stderr"
        },
        {
          "output_type": "stream",
          "text": [
            "[1 1 1 1 1 1 1 1 1 1 1 1 1 1 1 1 1 1 1 1 1 1 1 1 1 1 1 1 1 1 1 1 1 0 1 1 1\n",
            " 1 1 1 1 1 1 1 1 1 1 1 1 1 1 1 1 1 1 1 1 1 1 1 1 1 1 1 1 1 1 1 1 1 1 1 1 1\n",
            " 1 1 1 1 1 1 1 1 1 1 1 1 1 1 1 1 1 1 1 1 1 1 1 1 1 1 1 1 1 1 1 1 1 1 1 1 1\n",
            " 1 1 1 1 1 1 1 1 1 1 1 1 1 1 1 1 1 1 1 1 1 1 1 1 1 1 1 1 1 1 1 1 1 1 1 1 1\n",
            " 1 1 1 1 1 1 1 1 1 1 1 1 1 1 1 1 1 1 1 1 1 1 1 1 1 1 1 1 1 1 1 1 1 1 1 1 1\n",
            " 1 1 1 1 1 1 1 1 1 1 1 1 1 1 1 1 1 1 1 1 1 1 1 1 1 1 1 1 1 1 1 1 1 1 1 1 1\n",
            " 1 1 1 1 1 1 1 1 1 1 1 1 1 1 1 1 1 1 1 1 1 1 1 1 1 1 1 1 1 1 1 1 1 1 1 1 1\n",
            " 1 1 1 1 1 1 1 1 1 1 1 1 1 1 1 1 1 1 1 1 1 1 1 1 1 1 1 1 1 1 1 1 1 1 1 1 1\n",
            " 1 1 1 1 1 1 1 1 1 1 1 1 1 1 1 1 1 1 1 1 1 0 0 0 0 0 0 1 1 1 0 0 0 1 0 0 0\n",
            " 0 0 1 0 0 0 0 0 1 0 0 0 0 0 0 0 0 0 0 0 0 0 0 0 0 0 0 0 0 0 1 0 0 0 0 0 0\n",
            " 0 0 0 0 0 0 0 1 0 0 0 0 0 0 0 1 0 0 0 1 0 0 0 0 0 0 0 0 0 0 0 0 0 0 0 0 0\n",
            " 0 0 0 0 0 0 0 0 0 0 0 0 0 0 0 0 0 0 0 0 0 0 0 0 0 0 1 0 0 1 0 0 0 0 0 0 1\n",
            " 1 0 0 0 0 0 1 0 0 0 0 1 0 0 0 0 0 0 0 0 0]\n"
          ],
          "name": "stdout"
        }
      ]
    },
    {
      "cell_type": "code",
      "metadata": {
        "colab": {
          "base_uri": "https://localhost:8080/"
        },
        "id": "lBd-UY-GPCND",
        "outputId": "1cc9cf11-bcbc-41d1-c36e-86fd5d1dbc48"
      },
      "source": [
        "from sklearn.preprocessing import LabelEncoder\n",
        "labelencoder = LabelEncoder()\n",
        "yy= labelencoder.fit_transform(y_test)\n",
        "print(yy)"
      ],
      "execution_count": null,
      "outputs": [
        {
          "output_type": "stream",
          "text": [
            "[1 1 1 1 1 1 1 1 1 1 1 1 1 1 1 1 1 1 1 1 1 1 1 1 1 1 1 1 1 1 1 1 1 1 1 1 1\n",
            " 1 1 1 1 1 1 1 1 1 1 1 1 1 1 1 1 1 1 1 1 1 1 1 1 1 1 1 1 1 1 1 1 1 1 1 1 1\n",
            " 1 1 1 1 1 1 1 1 1 1 1 1 1 1 1 1 1 1 1 1 1 1 1 1 1 1 1 1 1 1 1 1 1 1 1 1 1\n",
            " 1 1 1 1 1 1 1 1 1 1 1 1 1 1 1 1 1 1 1 1 1 1 1 1 1 1 1 1 1 1 1 1 1 1 1 1 1\n",
            " 1 1 1 1 1 1 1 1 1 1 1 1 1 1 1 1 1 1 1 1 1 1 1 1 1 1 1 1 1 1 1 1 1 1 1 1 1\n",
            " 1 1 1 1 1 1 1 1 1 1 1 1 1 1 1 1 1 1 1 1 1 1 1 1 1 1 1 1 1 1 1 1 1 1 1 1 1\n",
            " 1 1 1 1 1 1 1 1 1 1 1 1 1 1 1 1 1 1 1 1 1 1 1 1 1 1 1 1 1 1 1 1 1 1 1 1 1\n",
            " 1 1 1 1 1 1 1 1 1 1 1 1 1 1 1 1 1 1 1 1 1 1 1 1 1 1 1 1 1 1 1 1 1 1 1 1 1\n",
            " 1 1 1 1 1 1 1 1 1 1 1 1 1 1 1 1 1 1 1 1 1 0 0 0 0 0 0 0 0 0 0 0 0 0 0 0 0\n",
            " 0 0 0 0 0 0 0 0 0 0 0 0 0 0 0 0 0 0 0 0 0 0 0 0 0 0 0 0 0 0 0 0 0 0 0 0 0\n",
            " 0 0 0 0 0 0 0 0 0 0 0 0 0 0 0 0 0 0 0 0 0 0 0 0 0 0 0 0 0 0 0 0 0 0 0 0 0\n",
            " 0 0 0 0 0 0 0 0 0 0 0 0 0 0 0 0 0 0 0 0 0 0 0 0 0 0 0 0 0 0 0 0 0 0 0 0 0\n",
            " 0 0 0 0 0 0 0 0 0 0 0 0 0 0 0 0 0 0 0 0 0]\n"
          ],
          "name": "stdout"
        },
        {
          "output_type": "stream",
          "text": [
            "/usr/local/lib/python3.7/dist-packages/sklearn/preprocessing/_label.py:251: DataConversionWarning: A column-vector y was passed when a 1d array was expected. Please change the shape of y to (n_samples, ), for example using ravel().\n",
            "  y = column_or_1d(y, warn=True)\n"
          ],
          "name": "stderr"
        }
      ]
    },
    {
      "cell_type": "code",
      "metadata": {
        "colab": {
          "base_uri": "https://localhost:8080/"
        },
        "id": "s-orfgJJKt5D",
        "outputId": "b141df26-b6be-4f63-c807-0a1864c26b5b"
      },
      "source": [
        "from sklearn.metrics import confusion_matrix\n",
        "cm=confusion_matrix(yy,y_pred_class)\n",
        "print(cm)"
      ],
      "execution_count": null,
      "outputs": [
        {
          "output_type": "stream",
          "text": [
            "[[132  16]\n",
            " [  1 316]]\n"
          ],
          "name": "stdout"
        }
      ]
    },
    {
      "cell_type": "code",
      "metadata": {
        "colab": {
          "base_uri": "https://localhost:8080/"
        },
        "id": "edz4IFAyTALu",
        "outputId": "20b26cd6-48d8-4fd2-a8cf-f129bd57f484"
      },
      "source": [
        "acc=(cm[0][0]+cm[1][1])/(cm[1][0]+cm[0][1]+cm[0][0]+cm[1][1])\n",
        "R1=(cm[0][0])/(cm[0][0]+cm[0][1])\n",
        "P1=(cm[1][1])/(cm[1][0]+cm[1][1])\n",
        "F1=(2*R1*P1)/(R1+P1)\n",
        "    \n",
        "print(acc,R1,P1,F1)"
      ],
      "execution_count": null,
      "outputs": [
        {
          "output_type": "stream",
          "text": [
            "0.9634408602150538 0.8918918918918919 0.9968454258675079 0.9414526249266465\n"
          ],
          "name": "stdout"
        }
      ]
    },
    {
      "cell_type": "code",
      "metadata": {
        "colab": {
          "base_uri": "https://localhost:8080/"
        },
        "id": "VqxwaLRbrWHQ",
        "outputId": "4a9c5e91-4063-44d9-94cb-b06a94648111"
      },
      "source": [
        "from sklearn.metrics import confusion_matrix, classification_report,accuracy_score,recall_score,precision_score\n",
        "print(classification_report(yy,y_pred_class))\n",
        "CM=confusion_matrix( yy,y_pred_class)\n",
        "from mlxtend.plotting import plot_confusion_matrix\n",
        "fig, ax = plot_confusion_matrix(conf_mat=CM ,  figsize=(5, 5))\n",
        "plt.show()\n",
        "accuracy_score(yy,y_pred_class)\n",
        "recall_score(yy,y_pred_class, average=None)\n",
        "precision_score(yy,y_pred_class, average=None)"
      ],
      "execution_count": null,
      "outputs": [
        {
          "output_type": "stream",
          "text": [
            "              precision    recall  f1-score   support\n",
            "\n",
            "           0       0.99      0.89      0.94       148\n",
            "           1       0.95      1.00      0.97       317\n",
            "\n",
            "    accuracy                           0.96       465\n",
            "   macro avg       0.97      0.94      0.96       465\n",
            "weighted avg       0.96      0.96      0.96       465\n",
            "\n"
          ],
          "name": "stdout"
        },
        {
          "output_type": "display_data",
          "data": {
            "image/png": "[encoded data removed]",
            "text/plain": [
              "<Figure size 360x360 with 1 Axes>"
            ]
          },
          "metadata": {
            "tags": []
          }
        },
        {
          "output_type": "execute_result",
          "data": {
            "text/plain": [
              "array([0.9924812 , 0.95180723])"
            ]
          },
          "metadata": {
            "tags": []
          },
          "execution_count": 20
        }
      ]
    },
    {
      "cell_type": "code",
      "metadata": {
        "colab": {
          "base_uri": "https://localhost:8080/",
          "height": 573
        },
        "id": "gLlJ4ZxSqYX6",
        "outputId": "93d86212-a1c4-4000-e567-09edf031be03"
      },
      "source": [
        "plt.plot(hist.history['acc'])\n",
        "plt.plot(hist.history['val_acc'])\n",
        "plt.title('Model Accuracy')\n",
        "plt.ylabel('Accuracy')\n",
        "plt.xlabel('Epoch')\n",
        "plt.legend([\"Train_acc\",\"Validation_acc\"])\n",
        "plt.show()\n",
        "\n",
        "plt.plot(hist.history['loss'])\n",
        "plt.plot(hist.history['val_loss'])\n",
        "plt.title('Model Loss')\n",
        "plt.ylabel('Loss')\n",
        "plt.xlabel('Epoch')\n",
        "plt.legend([\"Train_loss\",\"Validation Loss\"])\n",
        "plt.show()"
      ],
      "execution_count": null,
      "outputs": [
        {
          "output_type": "display_data",
          "data": {
            "image/png": "[encoded data removed]",
            "text/plain": [
              "<Figure size 432x288 with 1 Axes>"
            ]
          },
          "metadata": {
            "tags": []
          }
        },
        {
          "output_type": "display_data",
          "data": {
            "image/png": "[encoded data removed]",
            "text/plain": [
              "<Figure size 432x288 with 1 Axes>"
            ]
          },
          "metadata": {
            "tags": []
          }
        }
      ]
    },
    {
      "cell_type": "markdown",
      "metadata": {
        "id": "kZpK9pu8WvSj"
      },
      "source": [
        "model2"
      ]
    },
    {
      "cell_type": "code",
      "metadata": {
        "id": "TwGjCeBZWuBv"
      },
      "source": [
        "model = Sequential()\n",
        "model.add(Conv2D(filters=16, kernel_size=5, activation='relu', input_shape=(200,200,1)))\n",
        "model.add(Conv2D(filters=24, kernel_size=3, activation='relu'))\n",
        "model.add(MaxPool2D(pool_size=2))\n",
        "model.add(Conv2D(filters=32, kernel_size=3, activation='relu'))\n",
        "model.add(MaxPool2D(pool_size=2))\n",
        "model.add(Flatten())\n",
        "model.add(Dense(100, activation='relu'))\n",
        "model.add(Dropout(0.25))\n",
        "model.add(Dense(2,activation = 'softmax'))"
      ],
      "execution_count": null,
      "outputs": []
    },
    {
      "cell_type": "code",
      "metadata": {
        "colab": {
          "base_uri": "https://localhost:8080/"
        },
        "id": "3LfVH8HiSP1U",
        "outputId": "4d44b551-1d41-484c-943b-d2cf0adb89a1"
      },
      "source": [
        "model.compile(loss='categorical_crossentropy',optimizer='adam',metrics=['accuracy'])\n",
        "model.summary()"
      ],
      "execution_count": null,
      "outputs": [
        {
          "output_type": "stream",
          "text": [
            "Model: \"sequential_8\"\n",
            "_________________________________________________________________\n",
            "Layer (type)                 Output Shape              Param #   \n",
            "=================================================================\n",
            "conv2d_27 (Conv2D)           (None, 196, 196, 16)      416       \n",
            "_________________________________________________________________\n",
            "conv2d_28 (Conv2D)           (None, 194, 194, 24)      3480      \n",
            "_________________________________________________________________\n",
            "max_pooling2d_13 (MaxPooling (None, 97, 97, 24)        0         \n",
            "_________________________________________________________________\n",
            "conv2d_29 (Conv2D)           (None, 95, 95, 32)        6944      \n",
            "_________________________________________________________________\n",
            "max_pooling2d_14 (MaxPooling (None, 47, 47, 32)        0         \n",
            "_________________________________________________________________\n",
            "flatten_9 (Flatten)          (None, 70688)             0         \n",
            "_________________________________________________________________\n",
            "dense_19 (Dense)             (None, 100)               7068900   \n",
            "_________________________________________________________________\n",
            "dropout_8 (Dropout)          (None, 100)               0         \n",
            "_________________________________________________________________\n",
            "dense_20 (Dense)             (None, 2)                 202       \n",
            "=================================================================\n",
            "Total params: 7,079,942\n",
            "Trainable params: 7,079,942\n",
            "Non-trainable params: 0\n",
            "_________________________________________________________________\n"
          ],
          "name": "stdout"
        }
      ]
    },
    {
      "cell_type": "code",
      "metadata": {
        "colab": {
          "base_uri": "https://localhost:8080/"
        },
        "id": "S45cwJUnSP4x",
        "outputId": "af959ceb-7c67-405a-a2d1-039e809140f3"
      },
      "source": [
        "hist=model.fit(X_train, y_train_one_hot, epochs=1, validation_data=(X_test, y_test_one_hot))\n"
      ],
      "execution_count": null,
      "outputs": [
        {
          "output_type": "stream",
          "text": [
            "54/54 [==============================] - 108s 2s/step - loss: 54.1785 - accuracy: 0.7411 - val_loss: 0.1563 - val_accuracy: 0.9398\n"
          ],
          "name": "stdout"
        }
      ]
    },
    {
      "cell_type": "code",
      "metadata": {
        "colab": {
          "base_uri": "https://localhost:8080/"
        },
        "id": "zrsee7G2SP79",
        "outputId": "0eba462a-dca8-4078-f4a7-4ed9768c738a"
      },
      "source": [
        "y_pred_class=model.predict_classes(X_test)\n",
        "print(y_pred_class)"
      ],
      "execution_count": null,
      "outputs": [
        {
          "output_type": "stream",
          "text": [
            "/usr/local/lib/python3.7/dist-packages/keras/engine/sequential.py:450: UserWarning: `model.predict_classes()` is deprecated and will be removed after 2021-01-01. Please use instead:* `np.argmax(model.predict(x), axis=-1)`,   if your model does multi-class classification   (e.g. if it uses a `softmax` last-layer activation).* `(model.predict(x) > 0.5).astype(\"int32\")`,   if your model does binary classification   (e.g. if it uses a `sigmoid` last-layer activation).\n",
            "  warnings.warn('`model.predict_classes()` is deprecated and '\n"
          ],
          "name": "stderr"
        },
        {
          "output_type": "stream",
          "text": [
            "[1 1 1 1 1 1 1 1 1 1 1 1 1 1 1 1 1 1 1 1 1 1 1 1 1 1 1 1 1 1 1 1 1 1 1 1 1\n",
            " 1 1 1 1 1 1 1 1 1 1 1 1 1 1 1 1 1 1 1 1 1 1 1 1 1 1 1 1 1 1 1 1 1 1 1 1 1\n",
            " 1 1 1 1 1 1 1 1 1 1 1 1 1 1 1 1 1 1 1 1 1 1 1 1 1 1 1 1 1 1 1 1 1 1 1 1 1\n",
            " 1 1 1 1 1 1 1 1 1 1 1 1 1 1 1 1 1 1 1 1 1 1 1 1 1 1 1 1 1 1 1 1 1 1 1 1 1\n",
            " 1 1 1 1 1 1 1 1 1 1 1 1 1 1 1 1 1 1 1 1 1 1 1 1 1 1 1 1 1 1 1 1 1 1 1 1 1\n",
            " 1 1 1 1 1 1 1 1 1 1 1 1 1 1 1 1 1 1 1 1 1 1 1 1 1 1 1 1 1 1 1 1 1 1 1 1 1\n",
            " 1 1 1 1 1 1 1 1 1 1 1 1 1 1 1 1 1 1 1 1 1 1 1 1 1 1 1 1 1 1 1 1 1 1 1 1 1\n",
            " 1 1 1 1 1 1 1 1 1 1 1 1 1 1 1 1 1 1 1 1 1 1 1 1 1 1 1 1 1 1 1 1 1 1 1 1 1\n",
            " 1 1 1 1 1 1 1 1 1 1 1 1 1 1 1 1 1 1 1 1 1 0 0 0 0 0 0 0 0 0 0 0 0 1 0 0 1\n",
            " 1 0 1 0 0 0 0 0 0 1 0 0 0 1 1 0 0 0 0 0 0 0 0 0 0 0 0 0 0 0 0 0 0 0 0 0 0\n",
            " 0 0 0 0 0 0 0 0 0 0 0 0 0 1 0 1 0 0 0 1 0 0 0 1 0 0 0 0 0 0 0 0 0 0 0 0 0\n",
            " 0 0 0 0 0 0 0 0 0 1 1 0 0 0 0 0 0 1 0 0 0 0 0 0 0 0 0 0 0 0 0 0 0 0 0 0 1\n",
            " 1 0 1 1 0 0 0 0 0 0 0 0 1 0 0 1 0 0 0 1 0]\n"
          ],
          "name": "stdout"
        }
      ]
    },
    {
      "cell_type": "code",
      "metadata": {
        "colab": {
          "base_uri": "https://localhost:8080/"
        },
        "id": "XxUovcSnSP-G",
        "outputId": "e3fb39cc-90cd-4cba-bb5e-2a05873c98c6"
      },
      "source": [
        "from sklearn.preprocessing import LabelEncoder\n",
        "labelencoder = LabelEncoder()\n",
        "yy= labelencoder.fit_transform(y_test)\n",
        "print(yy)"
      ],
      "execution_count": null,
      "outputs": [
        {
          "output_type": "stream",
          "text": [
            "[1 1 1 1 1 1 1 1 1 1 1 1 1 1 1 1 1 1 1 1 1 1 1 1 1 1 1 1 1 1 1 1 1 1 1 1 1\n",
            " 1 1 1 1 1 1 1 1 1 1 1 1 1 1 1 1 1 1 1 1 1 1 1 1 1 1 1 1 1 1 1 1 1 1 1 1 1\n",
            " 1 1 1 1 1 1 1 1 1 1 1 1 1 1 1 1 1 1 1 1 1 1 1 1 1 1 1 1 1 1 1 1 1 1 1 1 1\n",
            " 1 1 1 1 1 1 1 1 1 1 1 1 1 1 1 1 1 1 1 1 1 1 1 1 1 1 1 1 1 1 1 1 1 1 1 1 1\n",
            " 1 1 1 1 1 1 1 1 1 1 1 1 1 1 1 1 1 1 1 1 1 1 1 1 1 1 1 1 1 1 1 1 1 1 1 1 1\n",
            " 1 1 1 1 1 1 1 1 1 1 1 1 1 1 1 1 1 1 1 1 1 1 1 1 1 1 1 1 1 1 1 1 1 1 1 1 1\n",
            " 1 1 1 1 1 1 1 1 1 1 1 1 1 1 1 1 1 1 1 1 1 1 1 1 1 1 1 1 1 1 1 1 1 1 1 1 1\n",
            " 1 1 1 1 1 1 1 1 1 1 1 1 1 1 1 1 1 1 1 1 1 1 1 1 1 1 1 1 1 1 1 1 1 1 1 1 1\n",
            " 1 1 1 1 1 1 1 1 1 1 1 1 1 1 1 1 1 1 1 1 1 0 0 0 0 0 0 0 0 0 0 0 0 0 0 0 0\n",
            " 0 0 0 0 0 0 0 0 0 0 0 0 0 0 0 0 0 0 0 0 0 0 0 0 0 0 0 0 0 0 0 0 0 0 0 0 0\n",
            " 0 0 0 0 0 0 0 0 0 0 0 0 0 0 0 0 0 0 0 0 0 0 0 0 0 0 0 0 0 0 0 0 0 0 0 0 0\n",
            " 0 0 0 0 0 0 0 0 0 0 0 0 0 0 0 0 0 0 0 0 0 0 0 0 0 0 0 0 0 0 0 0 0 0 0 0 0\n",
            " 0 0 0 0 0 0 0 0 0 0 0 0 0 0 0 0 0 0 0 0 0]\n"
          ],
          "name": "stdout"
        },
        {
          "output_type": "stream",
          "text": [
            "/usr/local/lib/python3.7/dist-packages/sklearn/preprocessing/_label.py:251: DataConversionWarning: A column-vector y was passed when a 1d array was expected. Please change the shape of y to (n_samples, ), for example using ravel().\n",
            "  y = column_or_1d(y, warn=True)\n"
          ],
          "name": "stderr"
        }
      ]
    },
    {
      "cell_type": "code",
      "metadata": {
        "colab": {
          "base_uri": "https://localhost:8080/"
        },
        "id": "_HtOZaDfSQAn",
        "outputId": "8f6ad1ee-9f41-4f8b-e24c-14bd15d79995"
      },
      "source": [
        "from sklearn.metrics import confusion_matrix\n",
        "cm=confusion_matrix(yy,y_pred_class)\n",
        "print(cm)"
      ],
      "execution_count": null,
      "outputs": [
        {
          "output_type": "stream",
          "text": [
            "[[127  21]\n",
            " [  0 317]]\n"
          ],
          "name": "stdout"
        }
      ]
    },
    {
      "cell_type": "code",
      "metadata": {
        "colab": {
          "base_uri": "https://localhost:8080/"
        },
        "id": "DE-aurraSQDw",
        "outputId": "bd1a6ef4-f8e7-48d2-98ff-8b58f4c7be1d"
      },
      "source": [
        "acc=(cm[0][0]+cm[1][1])/(cm[1][0]+cm[0][1]+cm[0][0]+cm[1][1])\n",
        "R1=(cm[0][0])/(cm[0][0]+cm[0][1])\n",
        "P1=(cm[1][1])/(cm[1][0]+cm[1][1])\n",
        "F1=(2*R1*P1)/(R1+P1)\n",
        "    \n",
        "print(acc,R1,P1,F1)"
      ],
      "execution_count": null,
      "outputs": [
        {
          "output_type": "stream",
          "text": [
            "0.9548387096774194 0.8581081081081081 1.0 0.9236363636363636\n"
          ],
          "name": "stdout"
        }
      ]
    },
    {
      "cell_type": "code",
      "metadata": {
        "colab": {
          "base_uri": "https://localhost:8080/",
          "height": 504
        },
        "id": "GEZnbgdbtoH2",
        "outputId": "23f27d57-0367-412b-de5b-9b24b36a9584"
      },
      "source": [
        "from sklearn.metrics import confusion_matrix, classification_report,accuracy_score,recall_score,precision_score\n",
        "print(classification_report(yy,y_pred_class))\n",
        "CM=confusion_matrix( yy,y_pred_class)\n",
        "from mlxtend.plotting import plot_confusion_matrix\n",
        "fig, ax = plot_confusion_matrix(conf_mat=CM ,  figsize=(5, 5))\n",
        "plt.show()\n",
        "accuracy_score(yy,y_pred_class)\n",
        "recall_score(yy,y_pred_class, average=None)\n",
        "precision_score(yy,y_pred_class, average=None)"
      ],
      "execution_count": null,
      "outputs": [
        {
          "output_type": "stream",
          "text": [
            "              precision    recall  f1-score   support\n",
            "\n",
            "           0       1.00      0.86      0.92       148\n",
            "           1       0.94      1.00      0.97       317\n",
            "\n",
            "    accuracy                           0.95       465\n",
            "   macro avg       0.97      0.93      0.95       465\n",
            "weighted avg       0.96      0.95      0.95       465\n",
            "\n"
          ],
          "name": "stdout"
        },
        {
          "output_type": "display_data",
          "data": {
            "image/png": "[encoded data removed]",
            "text/plain": [
              "<Figure size 360x360 with 1 Axes>"
            ]
          },
          "metadata": {
            "tags": []
          }
        },
        {
          "output_type": "execute_result",
          "data": {
            "text/plain": [
              "array([1.        , 0.93786982])"
            ]
          },
          "metadata": {
            "tags": []
          },
          "execution_count": 45
        }
      ]
    },
    {
      "cell_type": "code",
      "metadata": {
        "colab": {
          "base_uri": "https://localhost:8080/",
          "height": 573
        },
        "id": "QatrBcBvR9zh",
        "outputId": "4d67ee41-9de5-4e15-dbf6-ce89ccc7d8cc"
      },
      "source": [
        "plt.plot(hist.history['accuracy'])\n",
        "plt.plot(hist.history['val_accuracy'])\n",
        "plt.title('Model Accuracy')\n",
        "plt.ylabel('Accuracy')\n",
        "plt.xlabel('Epoch')\n",
        "plt.legend([\"Train_acc\",\"Validation_acc\"])\n",
        "plt.show()\n",
        "\n",
        "plt.plot(hist.history['loss'])\n",
        "plt.plot(hist.history['val_loss'])\n",
        "plt.title('Model Loss')\n",
        "plt.ylabel('Loss')\n",
        "plt.xlabel('Epoch')\n",
        "plt.legend([\"Train_loss\",\"Validation Loss\"])\n",
        "plt.show()"
      ],
      "execution_count": null,
      "outputs": [
        {
          "output_type": "display_data",
          "data": {
            "image/png": "[encoded data removed]",
            "text/plain": [
              "<Figure size 432x288 with 1 Axes>"
            ]
          },
          "metadata": {
            "tags": []
          }
        },
        {
          "output_type": "display_data",
          "data": {
            "image/png": "[encoded data removed]",
            "text/plain": [
              "<Figure size 432x288 with 1 Axes>"
            ]
          },
          "metadata": {
            "tags": []
          }
        }
      ]
    },
    {
      "cell_type": "markdown",
      "metadata": {
        "id": "18aTMQfli_cG"
      },
      "source": [
        "model 3"
      ]
    },
    {
      "cell_type": "code",
      "metadata": {
        "id": "opY7n81rSQGT"
      },
      "source": [
        "model = Sequential()\n",
        "model.add(Conv2D(filters=24, kernel_size=5, activation='relu', input_shape=(200,200,1)))\n",
        "model.add(Conv2D(filters=16, kernel_size=3, activation='relu'))\n",
        "model.add(MaxPool2D(pool_size=2))\n",
        "model.add(Dense(100, activation='relu'))\n",
        "model.add(Conv2D(filters=8, kernel_size=3, activation='relu'))\n",
        "model.add(MaxPool2D(pool_size=2))\n",
        "model.add(Flatten())\n",
        "model.add(Dense(200, activation='relu'))\n",
        "model.add(Dense(2,activation = 'softmax'))"
      ],
      "execution_count": null,
      "outputs": []
    },
    {
      "cell_type": "code",
      "metadata": {
        "colab": {
          "base_uri": "https://localhost:8080/"
        },
        "id": "rnYoeIhzi4XV",
        "outputId": "c8ed1577-ee3b-4bed-805a-f14f1adbec3f"
      },
      "source": [
        "model.compile(loss='categorical_crossentropy',optimizer='adam',metrics=['accuracy'])\n",
        "model.summary()"
      ],
      "execution_count": null,
      "outputs": [
        {
          "output_type": "stream",
          "text": [
            "Model: \"sequential_11\"\n",
            "_________________________________________________________________\n",
            "Layer (type)                 Output Shape              Param #   \n",
            "=================================================================\n",
            "conv2d_36 (Conv2D)           (None, 196, 196, 24)      624       \n",
            "_________________________________________________________________\n",
            "conv2d_37 (Conv2D)           (None, 194, 194, 16)      3472      \n",
            "_________________________________________________________________\n",
            "max_pooling2d_18 (MaxPooling (None, 97, 97, 16)        0         \n",
            "_________________________________________________________________\n",
            "dense_22 (Dense)             (None, 97, 97, 100)       1700      \n",
            "_________________________________________________________________\n",
            "conv2d_38 (Conv2D)           (None, 95, 95, 8)         7208      \n",
            "_________________________________________________________________\n",
            "max_pooling2d_19 (MaxPooling (None, 47, 47, 8)         0         \n",
            "_________________________________________________________________\n",
            "flatten_12 (Flatten)         (None, 17672)             0         \n",
            "_________________________________________________________________\n",
            "dense_23 (Dense)             (None, 200)               3534600   \n",
            "_________________________________________________________________\n",
            "dense_24 (Dense)             (None, 2)                 402       \n",
            "=================================================================\n",
            "Total params: 3,548,006\n",
            "Trainable params: 3,548,006\n",
            "Non-trainable params: 0\n",
            "_________________________________________________________________\n"
          ],
          "name": "stdout"
        }
      ]
    },
    {
      "cell_type": "code",
      "metadata": {
        "colab": {
          "base_uri": "https://localhost:8080/"
        },
        "id": "CDbJ1eXSi4ag",
        "outputId": "dc840036-70ea-4a30-b6a3-d74f535b0f3d"
      },
      "source": [
        "hist=model.fit(X_train, y_train_one_hot, epochs=1, validation_data=(X_test, y_test_one_hot))\n"
      ],
      "execution_count": null,
      "outputs": [
        {
          "output_type": "stream",
          "text": [
            "54/54 [==============================] - 184s 3s/step - loss: 6.8516 - accuracy: 0.7707 - val_loss: 0.2771 - val_accuracy: 0.9140\n"
          ],
          "name": "stdout"
        }
      ]
    },
    {
      "cell_type": "code",
      "metadata": {
        "colab": {
          "base_uri": "https://localhost:8080/"
        },
        "id": "repK2OHui4eK",
        "outputId": "f4faab08-deca-4e3a-d881-7aff57ea87e7"
      },
      "source": [
        "y_pred_class=model.predict_classes(X_test)\n",
        "print(y_pred_class)"
      ],
      "execution_count": null,
      "outputs": [
        {
          "output_type": "stream",
          "text": [
            "/usr/local/lib/python3.7/dist-packages/keras/engine/sequential.py:450: UserWarning: `model.predict_classes()` is deprecated and will be removed after 2021-01-01. Please use instead:* `np.argmax(model.predict(x), axis=-1)`,   if your model does multi-class classification   (e.g. if it uses a `softmax` last-layer activation).* `(model.predict(x) > 0.5).astype(\"int32\")`,   if your model does binary classification   (e.g. if it uses a `sigmoid` last-layer activation).\n",
            "  warnings.warn('`model.predict_classes()` is deprecated and '\n"
          ],
          "name": "stderr"
        },
        {
          "output_type": "stream",
          "text": [
            "[1 1 1 1 1 1 1 1 1 1 1 1 1 1 1 1 1 1 1 1 1 1 1 1 1 1 1 1 1 1 1 1 1 1 1 1 1\n",
            " 1 1 1 1 1 1 1 1 1 1 1 1 1 1 1 1 1 1 1 1 1 1 1 1 1 1 1 1 1 1 1 1 1 1 1 1 1\n",
            " 1 1 1 1 1 1 1 1 1 1 1 1 1 1 1 1 1 1 1 1 1 1 1 1 1 1 1 1 1 1 1 1 1 1 1 1 1\n",
            " 1 1 1 1 1 1 1 1 1 1 1 1 1 1 1 1 1 1 1 1 1 1 1 1 1 1 1 1 1 1 1 1 1 1 1 1 1\n",
            " 1 1 1 1 1 1 1 1 1 1 1 1 1 1 1 1 1 1 1 1 1 1 1 1 1 1 1 1 1 1 1 1 1 1 1 1 1\n",
            " 1 1 1 1 1 1 1 1 1 1 1 1 1 1 1 1 1 1 1 1 1 1 1 1 1 1 1 1 1 1 1 1 1 1 1 1 1\n",
            " 1 1 1 1 1 1 1 1 1 1 1 1 1 1 1 1 1 1 1 1 1 1 1 1 1 1 1 1 1 1 1 1 1 1 1 1 1\n",
            " 1 1 1 1 1 1 1 1 1 1 1 1 1 1 1 1 1 1 1 1 1 1 1 1 1 1 1 1 1 1 1 1 1 1 1 1 1\n",
            " 1 1 1 1 1 1 1 1 1 1 1 1 1 1 1 1 1 1 1 1 1 1 0 0 0 0 0 0 1 0 0 0 1 1 0 1 1\n",
            " 1 0 0 0 0 0 1 0 0 1 0 0 1 1 1 1 0 0 0 0 0 0 0 0 0 0 1 0 0 0 0 0 0 0 0 0 0\n",
            " 0 0 0 0 0 0 1 0 1 0 0 0 0 1 0 1 0 0 0 1 0 0 0 1 0 0 0 0 0 0 0 0 0 0 0 0 0\n",
            " 0 0 0 0 1 0 0 0 0 0 1 1 0 1 0 0 0 1 0 0 0 0 1 0 0 1 1 0 0 0 0 0 0 1 1 0 0\n",
            " 1 0 1 1 0 0 0 0 1 1 0 0 1 0 0 1 0 0 1 1 1]\n"
          ],
          "name": "stdout"
        }
      ]
    },
    {
      "cell_type": "code",
      "metadata": {
        "colab": {
          "base_uri": "https://localhost:8080/"
        },
        "id": "tc2rm6LRi4gi",
        "outputId": "90195536-af90-4666-f4a1-fa2ac50df9c1"
      },
      "source": [
        "from sklearn.preprocessing import LabelEncoder\n",
        "labelencoder = LabelEncoder()\n",
        "yy= labelencoder.fit_transform(y_test)\n",
        "print(yy)"
      ],
      "execution_count": null,
      "outputs": [
        {
          "output_type": "stream",
          "text": [
            "[1 1 1 1 1 1 1 1 1 1 1 1 1 1 1 1 1 1 1 1 1 1 1 1 1 1 1 1 1 1 1 1 1 1 1 1 1\n",
            " 1 1 1 1 1 1 1 1 1 1 1 1 1 1 1 1 1 1 1 1 1 1 1 1 1 1 1 1 1 1 1 1 1 1 1 1 1\n",
            " 1 1 1 1 1 1 1 1 1 1 1 1 1 1 1 1 1 1 1 1 1 1 1 1 1 1 1 1 1 1 1 1 1 1 1 1 1\n",
            " 1 1 1 1 1 1 1 1 1 1 1 1 1 1 1 1 1 1 1 1 1 1 1 1 1 1 1 1 1 1 1 1 1 1 1 1 1\n",
            " 1 1 1 1 1 1 1 1 1 1 1 1 1 1 1 1 1 1 1 1 1 1 1 1 1 1 1 1 1 1 1 1 1 1 1 1 1\n",
            " 1 1 1 1 1 1 1 1 1 1 1 1 1 1 1 1 1 1 1 1 1 1 1 1 1 1 1 1 1 1 1 1 1 1 1 1 1\n",
            " 1 1 1 1 1 1 1 1 1 1 1 1 1 1 1 1 1 1 1 1 1 1 1 1 1 1 1 1 1 1 1 1 1 1 1 1 1\n",
            " 1 1 1 1 1 1 1 1 1 1 1 1 1 1 1 1 1 1 1 1 1 1 1 1 1 1 1 1 1 1 1 1 1 1 1 1 1\n",
            " 1 1 1 1 1 1 1 1 1 1 1 1 1 1 1 1 1 1 1 1 1 0 0 0 0 0 0 0 0 0 0 0 0 0 0 0 0\n",
            " 0 0 0 0 0 0 0 0 0 0 0 0 0 0 0 0 0 0 0 0 0 0 0 0 0 0 0 0 0 0 0 0 0 0 0 0 0\n",
            " 0 0 0 0 0 0 0 0 0 0 0 0 0 0 0 0 0 0 0 0 0 0 0 0 0 0 0 0 0 0 0 0 0 0 0 0 0\n",
            " 0 0 0 0 0 0 0 0 0 0 0 0 0 0 0 0 0 0 0 0 0 0 0 0 0 0 0 0 0 0 0 0 0 0 0 0 0\n",
            " 0 0 0 0 0 0 0 0 0 0 0 0 0 0 0 0 0 0 0 0 0]\n"
          ],
          "name": "stdout"
        },
        {
          "output_type": "stream",
          "text": [
            "/usr/local/lib/python3.7/dist-packages/sklearn/preprocessing/_label.py:251: DataConversionWarning: A column-vector y was passed when a 1d array was expected. Please change the shape of y to (n_samples, ), for example using ravel().\n",
            "  y = column_or_1d(y, warn=True)\n"
          ],
          "name": "stderr"
        }
      ]
    },
    {
      "cell_type": "code",
      "metadata": {
        "colab": {
          "base_uri": "https://localhost:8080/"
        },
        "id": "kFaYXcLNi4kr",
        "outputId": "0bfda4f0-be2a-4248-881f-c98803c666a7"
      },
      "source": [
        "from sklearn.metrics import confusion_matrix\n",
        "cm=confusion_matrix(yy,y_pred_class)\n",
        "print(cm)"
      ],
      "execution_count": null,
      "outputs": [
        {
          "output_type": "stream",
          "text": [
            "[[108  40]\n",
            " [  0 317]]\n"
          ],
          "name": "stdout"
        }
      ]
    },
    {
      "cell_type": "code",
      "metadata": {
        "colab": {
          "base_uri": "https://localhost:8080/"
        },
        "id": "vDpo9aJxi4mV",
        "outputId": "2aa6cb6a-42c5-4243-cace-80578d59cc18"
      },
      "source": [
        "acc=(cm[0][0]+cm[1][1])/(cm[1][0]+cm[0][1]+cm[0][0]+cm[1][1])\n",
        "R1=(cm[0][0])/(cm[0][0]+cm[0][1])\n",
        "P1=(cm[1][1])/(cm[1][0]+cm[1][1])\n",
        "F1=(2*R1*P1)/(R1+P1)\n",
        "    \n",
        "print(acc,R1,P1,F1)"
      ],
      "execution_count": null,
      "outputs": [
        {
          "output_type": "stream",
          "text": [
            "0.9139784946236559 0.7297297297297297 1.0 0.8437499999999999\n"
          ],
          "name": "stdout"
        }
      ]
    },
    {
      "cell_type": "code",
      "metadata": {
        "colab": {
          "base_uri": "https://localhost:8080/",
          "height": 504
        },
        "id": "oCVnX8pftvQE",
        "outputId": "ddfb4452-cff8-4381-b31d-ecfc60420273"
      },
      "source": [
        "from sklearn.metrics import confusion_matrix, classification_report,accuracy_score,recall_score,precision_score\n",
        "print(classification_report(yy,y_pred_class))\n",
        "CM=confusion_matrix( yy,y_pred_class)\n",
        "from mlxtend.plotting import plot_confusion_matrix\n",
        "fig, ax = plot_confusion_matrix(conf_mat=CM ,  figsize=(5, 5))\n",
        "plt.show()\n",
        "accuracy_score(yy,y_pred_class)\n",
        "recall_score(yy,y_pred_class, average=None)\n",
        "precision_score(yy,y_pred_class, average=None)"
      ],
      "execution_count": null,
      "outputs": [
        {
          "output_type": "stream",
          "text": [
            "              precision    recall  f1-score   support\n",
            "\n",
            "           0       1.00      0.73      0.84       148\n",
            "           1       0.89      1.00      0.94       317\n",
            "\n",
            "    accuracy                           0.91       465\n",
            "   macro avg       0.94      0.86      0.89       465\n",
            "weighted avg       0.92      0.91      0.91       465\n",
            "\n"
          ],
          "name": "stdout"
        },
        {
          "output_type": "display_data",
          "data": {
            "image/png": "[encoded data removed]",
            "text/plain": [
              "<Figure size 360x360 with 1 Axes>"
            ]
          },
          "metadata": {
            "tags": []
          }
        },
        {
          "output_type": "execute_result",
          "data": {
            "text/plain": [
              "array([1.        , 0.88795518])"
            ]
          },
          "metadata": {
            "tags": []
          },
          "execution_count": 237
        }
      ]
    },
    {
      "cell_type": "code",
      "metadata": {
        "id": "lL-e7jdCSAR_"
      },
      "source": [
        "plt.plot(hist.history['accuracy'])\n",
        "plt.plot(hist.history['val_accuracy'])\n",
        "plt.title('Model Accuracy')\n",
        "plt.ylabel('Accuracy')\n",
        "plt.xlabel('Epoch')\n",
        "plt.legend([\"Train_acc\",\"Validation_acc\"])\n",
        "plt.show()\n",
        "\n",
        "plt.plot(hist.history['loss'])\n",
        "plt.plot(hist.history['val_loss'])\n",
        "plt.title('Model Loss')\n",
        "plt.ylabel('Loss')\n",
        "plt.xlabel('Epoch')\n",
        "plt.legend([\"Train_loss\",\"Validation Loss\"])\n",
        "plt.show()"
      ],
      "execution_count": null,
      "outputs": []
    },
    {
      "cell_type": "markdown",
      "metadata": {
        "id": "7tkW7g0rl-No"
      },
      "source": [
        "model4"
      ]
    },
    {
      "cell_type": "code",
      "metadata": {
        "id": "ImCa_Rqai4pT"
      },
      "source": [
        "model = Sequential()\n",
        "model.add(Conv2D(filters=32, kernel_size=5, activation='relu', input_shape=(200,200,1)))\n",
        "model.add(MaxPool2D(pool_size=2))\n",
        "model.add(Conv2D(filters=24, kernel_size=3, activation='relu'))\n",
        "model.add(MaxPool2D(pool_size=2))\n",
        "model.add(Dropout(0.25))\n",
        "model.add(Conv2D(filters=16, kernel_size=3, activation='relu'))\n",
        "model.add(MaxPool2D(pool_size=2))\n",
        "model.add(Flatten())\n",
        "model.add(Dense(100, activation='relu'))\n",
        "model.add(Dropout(0.5))\n",
        "model.add(Dense(2,activation = 'softmax'))"
      ],
      "execution_count": null,
      "outputs": []
    },
    {
      "cell_type": "code",
      "metadata": {
        "colab": {
          "base_uri": "https://localhost:8080/"
        },
        "id": "mMkzOT2Ri4sU",
        "outputId": "8c43f996-02e5-4f21-9640-dcd97d01f5c6"
      },
      "source": [
        "model.compile(loss='categorical_crossentropy',optimizer='adam',metrics=['accuracy'])\n",
        "model.summary()"
      ],
      "execution_count": null,
      "outputs": [
        {
          "output_type": "stream",
          "text": [
            "Model: \"sequential_12\"\n",
            "_________________________________________________________________\n",
            "Layer (type)                 Output Shape              Param #   \n",
            "=================================================================\n",
            "conv2d_39 (Conv2D)           (None, 196, 196, 32)      832       \n",
            "_________________________________________________________________\n",
            "max_pooling2d_20 (MaxPooling (None, 98, 98, 32)        0         \n",
            "_________________________________________________________________\n",
            "conv2d_40 (Conv2D)           (None, 96, 96, 24)        6936      \n",
            "_________________________________________________________________\n",
            "max_pooling2d_21 (MaxPooling (None, 48, 48, 24)        0         \n",
            "_________________________________________________________________\n",
            "dropout_10 (Dropout)         (None, 48, 48, 24)        0         \n",
            "_________________________________________________________________\n",
            "conv2d_41 (Conv2D)           (None, 46, 46, 16)        3472      \n",
            "_________________________________________________________________\n",
            "max_pooling2d_22 (MaxPooling (None, 23, 23, 16)        0         \n",
            "_________________________________________________________________\n",
            "flatten_13 (Flatten)         (None, 8464)              0         \n",
            "_________________________________________________________________\n",
            "dense_25 (Dense)             (None, 100)               846500    \n",
            "_________________________________________________________________\n",
            "dropout_11 (Dropout)         (None, 100)               0         \n",
            "_________________________________________________________________\n",
            "dense_26 (Dense)             (None, 2)                 202       \n",
            "=================================================================\n",
            "Total params: 857,942\n",
            "Trainable params: 857,942\n",
            "Non-trainable params: 0\n",
            "_________________________________________________________________\n"
          ],
          "name": "stdout"
        }
      ]
    },
    {
      "cell_type": "code",
      "metadata": {
        "colab": {
          "base_uri": "https://localhost:8080/"
        },
        "id": "O7N91YgRSQJb",
        "outputId": "9bff1bc2-ff94-49c3-c51d-d821d4d256f8"
      },
      "source": [
        "hist=model.fit(X_train, y_train_one_hot, epochs=1, validation_data=(X_test, y_test_one_hot))\n"
      ],
      "execution_count": null,
      "outputs": [
        {
          "output_type": "stream",
          "text": [
            "54/54 [==============================] - 68s 1s/step - loss: 36.9710 - accuracy: 0.6501 - val_loss: 0.4785 - val_accuracy: 0.7269\n"
          ],
          "name": "stdout"
        }
      ]
    },
    {
      "cell_type": "code",
      "metadata": {
        "colab": {
          "base_uri": "https://localhost:8080/"
        },
        "id": "GWrvEHvrlBXN",
        "outputId": "7f95546e-a8b7-4b71-eae9-14b8ce016a0a"
      },
      "source": [
        "y_pred_class=model.predict_classes(X_test)\n",
        "print(y_pred_class)"
      ],
      "execution_count": null,
      "outputs": [
        {
          "output_type": "stream",
          "text": [
            "/usr/local/lib/python3.7/dist-packages/keras/engine/sequential.py:450: UserWarning: `model.predict_classes()` is deprecated and will be removed after 2021-01-01. Please use instead:* `np.argmax(model.predict(x), axis=-1)`,   if your model does multi-class classification   (e.g. if it uses a `softmax` last-layer activation).* `(model.predict(x) > 0.5).astype(\"int32\")`,   if your model does binary classification   (e.g. if it uses a `sigmoid` last-layer activation).\n",
            "  warnings.warn('`model.predict_classes()` is deprecated and '\n"
          ],
          "name": "stderr"
        },
        {
          "output_type": "stream",
          "text": [
            "[1 1 1 1 1 1 1 1 1 1 1 1 1 1 1 1 1 1 1 1 1 1 1 1 1 1 1 1 1 1 0 1 1 0 1 1 1\n",
            " 1 1 1 1 1 1 1 1 1 1 1 1 1 1 1 1 1 1 1 1 1 1 1 1 1 1 0 1 1 1 1 1 1 1 1 1 1\n",
            " 1 1 1 1 1 1 1 1 1 1 1 1 1 1 1 1 1 1 1 1 1 1 1 1 1 1 1 1 1 1 1 1 1 1 1 1 1\n",
            " 1 1 1 1 1 1 1 1 1 1 1 1 1 1 1 1 1 1 1 1 1 1 1 1 1 1 1 1 1 1 1 1 1 1 1 1 1\n",
            " 1 1 1 1 1 1 1 1 1 1 1 1 1 1 1 1 1 1 1 1 1 1 1 1 1 1 1 1 1 1 1 1 1 1 1 1 1\n",
            " 1 1 1 1 1 1 1 1 1 1 0 1 1 1 1 1 1 1 1 1 1 1 1 1 1 1 1 1 1 1 1 1 1 0 1 1 1\n",
            " 1 1 1 1 1 1 1 1 1 1 1 1 1 1 1 1 1 1 1 1 1 1 1 1 1 1 0 1 1 1 1 1 1 1 1 1 1\n",
            " 1 1 1 1 1 1 1 1 1 1 1 1 1 1 1 1 1 1 1 1 1 1 1 1 1 1 1 1 1 1 1 1 1 1 1 1 1\n",
            " 1 1 1 1 1 1 1 1 1 1 1 1 1 1 1 1 1 1 1 1 1 0 0 0 0 0 0 0 0 0 0 0 0 1 0 0 0\n",
            " 0 0 0 0 0 0 0 0 0 0 0 0 0 0 0 0 0 0 0 0 0 0 0 0 0 0 0 0 0 0 0 0 0 0 0 0 0\n",
            " 0 0 0 0 0 0 0 0 0 0 0 0 0 0 0 1 0 0 0 1 0 0 0 1 0 0 0 0 0 0 0 0 0 0 0 0 0\n",
            " 0 0 0 0 0 0 0 0 0 0 0 0 0 0 0 0 0 1 0 0 0 0 0 0 0 0 0 0 0 0 0 0 0 0 0 0 0\n",
            " 1 0 0 0 0 0 0 0 0 0 0 0 0 0 0 0 0 0 0 0 0]\n"
          ],
          "name": "stdout"
        }
      ]
    },
    {
      "cell_type": "code",
      "metadata": {
        "colab": {
          "base_uri": "https://localhost:8080/"
        },
        "id": "iTjS8DEHlBmD",
        "outputId": "aee32ea7-4040-4d12-95ce-052fe7f7432a"
      },
      "source": [
        "from sklearn.preprocessing import LabelEncoder\n",
        "labelencoder = LabelEncoder()\n",
        "yy= labelencoder.fit_transform(y_test)\n",
        "print(yy)"
      ],
      "execution_count": null,
      "outputs": [
        {
          "output_type": "stream",
          "text": [
            "[1 1 1 1 1 1 1 1 1 1 1 1 1 1 1 1 1 1 1 1 1 1 1 1 1 1 1 1 1 1 1 1 1 1 1 1 1\n",
            " 1 1 1 1 1 1 1 1 1 1 1 1 1 1 1 1 1 1 1 1 1 1 1 1 1 1 1 1 1 1 1 1 1 1 1 1 1\n",
            " 1 1 1 1 1 1 1 1 1 1 1 1 1 1 1 1 1 1 1 1 1 1 1 1 1 1 1 1 1 1 1 1 1 1 1 1 1\n",
            " 1 1 1 1 1 1 1 1 1 1 1 1 1 1 1 1 1 1 1 1 1 1 1 1 1 1 1 1 1 1 1 1 1 1 1 1 1\n",
            " 1 1 1 1 1 1 1 1 1 1 1 1 1 1 1 1 1 1 1 1 1 1 1 1 1 1 1 1 1 1 1 1 1 1 1 1 1\n",
            " 1 1 1 1 1 1 1 1 1 1 1 1 1 1 1 1 1 1 1 1 1 1 1 1 1 1 1 1 1 1 1 1 1 1 1 1 1\n",
            " 1 1 1 1 1 1 1 1 1 1 1 1 1 1 1 1 1 1 1 1 1 1 1 1 1 1 1 1 1 1 1 1 1 1 1 1 1\n",
            " 1 1 1 1 1 1 1 1 1 1 1 1 1 1 1 1 1 1 1 1 1 1 1 1 1 1 1 1 1 1 1 1 1 1 1 1 1\n",
            " 1 1 1 1 1 1 1 1 1 1 1 1 1 1 1 1 1 1 1 1 1 0 0 0 0 0 0 0 0 0 0 0 0 0 0 0 0\n",
            " 0 0 0 0 0 0 0 0 0 0 0 0 0 0 0 0 0 0 0 0 0 0 0 0 0 0 0 0 0 0 0 0 0 0 0 0 0\n",
            " 0 0 0 0 0 0 0 0 0 0 0 0 0 0 0 0 0 0 0 0 0 0 0 0 0 0 0 0 0 0 0 0 0 0 0 0 0\n",
            " 0 0 0 0 0 0 0 0 0 0 0 0 0 0 0 0 0 0 0 0 0 0 0 0 0 0 0 0 0 0 0 0 0 0 0 0 0\n",
            " 0 0 0 0 0 0 0 0 0 0 0 0 0 0 0 0 0 0 0 0 0]\n"
          ],
          "name": "stdout"
        },
        {
          "output_type": "stream",
          "text": [
            "/usr/local/lib/python3.7/dist-packages/sklearn/preprocessing/_label.py:251: DataConversionWarning: A column-vector y was passed when a 1d array was expected. Please change the shape of y to (n_samples, ), for example using ravel().\n",
            "  y = column_or_1d(y, warn=True)\n"
          ],
          "name": "stderr"
        }
      ]
    },
    {
      "cell_type": "code",
      "metadata": {
        "colab": {
          "base_uri": "https://localhost:8080/"
        },
        "id": "eYdITeL8lB4k",
        "outputId": "7a4c5c00-6451-45ec-9908-1d49bdd2c77f"
      },
      "source": [
        "from sklearn.metrics import confusion_matrix\n",
        "cm=confusion_matrix(yy,y_pred_class)\n",
        "print(cm)"
      ],
      "execution_count": null,
      "outputs": [
        {
          "output_type": "stream",
          "text": [
            "[[142   6]\n",
            " [  6 311]]\n"
          ],
          "name": "stdout"
        }
      ]
    },
    {
      "cell_type": "code",
      "metadata": {
        "colab": {
          "base_uri": "https://localhost:8080/"
        },
        "id": "Ht6kB9CblCAR",
        "outputId": "cace8ffa-508a-4579-f5fd-32fe47b57d36"
      },
      "source": [
        "acc=(cm[0][0]+cm[1][1])/(cm[1][0]+cm[0][1]+cm[0][0]+cm[1][1])\n",
        "R1=(cm[0][0])/(cm[0][0]+cm[0][1])\n",
        "P1=(cm[1][1])/(cm[1][0]+cm[1][1])\n",
        "F1=(2*R1*P1)/(R1+P1)\n",
        "    \n",
        "print(acc,R1,P1,F1)"
      ],
      "execution_count": null,
      "outputs": [
        {
          "output_type": "stream",
          "text": [
            "0.9741935483870968 0.9594594594594594 0.9810725552050473 0.9701456470639925\n"
          ],
          "name": "stdout"
        }
      ]
    },
    {
      "cell_type": "code",
      "metadata": {
        "colab": {
          "base_uri": "https://localhost:8080/",
          "height": 504
        },
        "id": "SKOgS_XxtSD2",
        "outputId": "69ffd8b6-a02a-4bfe-97fa-69092b4a38ec"
      },
      "source": [
        "from sklearn.metrics import confusion_matrix, classification_report,accuracy_score,recall_score,precision_score\n",
        "print(classification_report(yy,y_pred_class))\n",
        "CM=confusion_matrix( yy,y_pred_class)\n",
        "from mlxtend.plotting import plot_confusion_matrix\n",
        "fig, ax = plot_confusion_matrix(conf_mat=CM ,  figsize=(5, 5))\n",
        "plt.show()\n",
        "accuracy_score(yy,y_pred_class)\n",
        "recall_score(yy,y_pred_class, average=None)\n",
        "precision_score(yy,y_pred_class, average=None)"
      ],
      "execution_count": null,
      "outputs": [
        {
          "output_type": "stream",
          "text": [
            "              precision    recall  f1-score   support\n",
            "\n",
            "           0       0.96      0.96      0.96       148\n",
            "           1       0.98      0.98      0.98       317\n",
            "\n",
            "    accuracy                           0.97       465\n",
            "   macro avg       0.97      0.97      0.97       465\n",
            "weighted avg       0.97      0.97      0.97       465\n",
            "\n"
          ],
          "name": "stdout"
        },
        {
          "output_type": "display_data",
          "data": {
            "image/png": "[encoded data removed]",
            "text/plain": [
              "<Figure size 360x360 with 1 Axes>"
            ]
          },
          "metadata": {
            "tags": []
          }
        },
        {
          "output_type": "execute_result",
          "data": {
            "text/plain": [
              "array([0.95945946, 0.98107256])"
            ]
          },
          "metadata": {
            "tags": []
          },
          "execution_count": 216
        }
      ]
    },
    {
      "cell_type": "code",
      "metadata": {
        "id": "fbrz7o9WSCjL"
      },
      "source": [
        "plt.plot(hist.history['accuracy'])\n",
        "plt.plot(hist.history['val_accuracy'])\n",
        "plt.title('Model Accuracy')\n",
        "plt.ylabel('Accuracy')\n",
        "plt.xlabel('Epoch')\n",
        "plt.legend([\"Train_acc\",\"Validation_acc\"])\n",
        "plt.show()\n",
        "\n",
        "plt.plot(hist.history['loss'])\n",
        "plt.plot(hist.history['val_loss'])\n",
        "plt.title('Model Loss')\n",
        "plt.ylabel('Loss')\n",
        "plt.xlabel('Epoch')\n",
        "plt.legend([\"Train_loss\",\"Validation Loss\"])\n",
        "plt.show()"
      ],
      "execution_count": null,
      "outputs": []
    },
    {
      "cell_type": "markdown",
      "metadata": {
        "id": "r330zdHKlWG0"
      },
      "source": [
        "model5"
      ]
    },
    {
      "cell_type": "code",
      "metadata": {
        "id": "-ivpuz5ulCDQ"
      },
      "source": [
        "model = Sequential()\n",
        "model.add(Conv1D(filters=32, kernel_size=5, activation='relu', input_shape=(200,200,1)))\n",
        "model.add(MaxPool2D(pool_size=2))\n",
        "\n",
        "model.add(Conv1D(filters=64, kernel_size=3, activation='relu'))\n",
        "model.add(MaxPool2D(pool_size=2))\n",
        "model.add(Dense(100, activation='relu'))\n",
        "model.add(Conv1D(filters=128, kernel_size=3, activation='relu'))\n",
        "model.add(MaxPool2D(pool_size=2))\n",
        "model.add(Flatten())\n",
        "model.add(Dense(200, activation='relu'))\n",
        "model.add(Dropout(0.5))\n",
        "model.add(Dense(2,activation = 'softmax'))"
      ],
      "execution_count": null,
      "outputs": []
    },
    {
      "cell_type": "code",
      "metadata": {
        "colab": {
          "base_uri": "https://localhost:8080/"
        },
        "id": "t1H3PRwIlT4x",
        "outputId": "4e583636-d374-448d-e43e-591014f9e234"
      },
      "source": [
        "model.compile(loss='categorical_crossentropy',optimizer='adam',metrics=['accuracy'])\n",
        "model.summary()"
      ],
      "execution_count": null,
      "outputs": [
        {
          "output_type": "stream",
          "text": [
            "Model: \"sequential_20\"\n",
            "_________________________________________________________________\n",
            "Layer (type)                 Output Shape              Param #   \n",
            "=================================================================\n",
            "conv1d_6 (Conv1D)            (None, 200, 196, 32)      192       \n",
            "_________________________________________________________________\n",
            "max_pooling2d_37 (MaxPooling (None, 100, 98, 32)       0         \n",
            "_________________________________________________________________\n",
            "conv1d_7 (Conv1D)            (None, 100, 96, 64)       6208      \n",
            "_________________________________________________________________\n",
            "max_pooling2d_38 (MaxPooling (None, 50, 48, 64)        0         \n",
            "_________________________________________________________________\n",
            "dense_44 (Dense)             (None, 50, 48, 100)       6500      \n",
            "_________________________________________________________________\n",
            "conv1d_8 (Conv1D)            (None, 50, 46, 128)       38528     \n",
            "_________________________________________________________________\n",
            "max_pooling2d_39 (MaxPooling (None, 25, 23, 128)       0         \n",
            "_________________________________________________________________\n",
            "flatten_25 (Flatten)         (None, 73600)             0         \n",
            "_________________________________________________________________\n",
            "dense_45 (Dense)             (None, 200)               14720200  \n",
            "_________________________________________________________________\n",
            "dropout_16 (Dropout)         (None, 200)               0         \n",
            "_________________________________________________________________\n",
            "dense_46 (Dense)             (None, 2)                 402       \n",
            "=================================================================\n",
            "Total params: 14,772,030\n",
            "Trainable params: 14,772,030\n",
            "Non-trainable params: 0\n",
            "_________________________________________________________________\n"
          ],
          "name": "stdout"
        }
      ]
    },
    {
      "cell_type": "code",
      "metadata": {
        "colab": {
          "base_uri": "https://localhost:8080/"
        },
        "id": "stJO6VQMlT8K",
        "outputId": "6e1b1458-ca42-4c34-dc6f-a52a4bb38319"
      },
      "source": [
        "hist=model.fit(X_train, y_train_one_hot, epochs=25, validation_data=(X_test, y_test_one_hot))\n"
      ],
      "execution_count": null,
      "outputs": [
        {
          "output_type": "stream",
          "text": [
            "Epoch 1/25\n",
            "54/54 [==============================] - 78s 1s/step - loss: 47.4881 - accuracy: 0.7559 - val_loss: 0.0668 - val_accuracy: 0.9806\n",
            "Epoch 2/25\n",
            "54/54 [==============================] - 76s 1s/step - loss: 0.0985 - accuracy: 0.9661 - val_loss: 0.1678 - val_accuracy: 0.9484\n",
            "Epoch 3/25\n",
            "54/54 [==============================] - 76s 1s/step - loss: 0.0295 - accuracy: 0.9915 - val_loss: 0.2086 - val_accuracy: 0.9484\n",
            "Epoch 4/25\n",
            "54/54 [==============================] - 76s 1s/step - loss: 0.0346 - accuracy: 0.9891 - val_loss: 0.0423 - val_accuracy: 0.9828\n",
            "Epoch 5/25\n",
            "54/54 [==============================] - 76s 1s/step - loss: 0.0249 - accuracy: 0.9927 - val_loss: 0.0729 - val_accuracy: 0.9785\n",
            "Epoch 6/25\n",
            "54/54 [==============================] - 76s 1s/step - loss: 0.0201 - accuracy: 0.9925 - val_loss: 0.0855 - val_accuracy: 0.9742\n",
            "Epoch 7/25\n",
            "54/54 [==============================] - 76s 1s/step - loss: 0.0222 - accuracy: 0.9937 - val_loss: 0.0202 - val_accuracy: 0.9914\n",
            "Epoch 8/25\n",
            "54/54 [==============================] - 76s 1s/step - loss: 0.0099 - accuracy: 0.9978 - val_loss: 0.0303 - val_accuracy: 0.9914\n",
            "Epoch 9/25\n",
            "54/54 [==============================] - 77s 1s/step - loss: 0.0023 - accuracy: 1.0000 - val_loss: 0.0904 - val_accuracy: 0.9742\n",
            "Epoch 10/25\n",
            "54/54 [==============================] - 76s 1s/step - loss: 0.0025 - accuracy: 0.9992 - val_loss: 0.0196 - val_accuracy: 0.9892\n",
            "Epoch 11/25\n",
            "54/54 [==============================] - 76s 1s/step - loss: 0.0059 - accuracy: 0.9980 - val_loss: 0.1212 - val_accuracy: 0.9677\n",
            "Epoch 12/25\n",
            "54/54 [==============================] - 76s 1s/step - loss: 0.0068 - accuracy: 0.9961 - val_loss: 0.0596 - val_accuracy: 0.9699\n",
            "Epoch 13/25\n",
            "54/54 [==============================] - 76s 1s/step - loss: 0.0113 - accuracy: 0.9972 - val_loss: 0.1207 - val_accuracy: 0.9677\n",
            "Epoch 14/25\n",
            "54/54 [==============================] - 76s 1s/step - loss: 0.0020 - accuracy: 0.9998 - val_loss: 0.0245 - val_accuracy: 0.9957\n",
            "Epoch 15/25\n",
            "54/54 [==============================] - 76s 1s/step - loss: 0.0292 - accuracy: 0.9918 - val_loss: 0.1920 - val_accuracy: 0.9677\n",
            "Epoch 16/25\n",
            "54/54 [==============================] - 76s 1s/step - loss: 0.1127 - accuracy: 0.9819 - val_loss: 0.1604 - val_accuracy: 0.9548\n",
            "Epoch 17/25\n",
            "54/54 [==============================] - 75s 1s/step - loss: 0.0393 - accuracy: 0.9896 - val_loss: 0.1044 - val_accuracy: 0.9785\n",
            "Epoch 18/25\n",
            "54/54 [==============================] - 77s 1s/step - loss: 0.0443 - accuracy: 0.9922 - val_loss: 0.0634 - val_accuracy: 0.9849\n",
            "Epoch 19/25\n",
            "54/54 [==============================] - 76s 1s/step - loss: 0.0137 - accuracy: 0.9951 - val_loss: 0.0812 - val_accuracy: 0.9849\n",
            "Epoch 20/25\n",
            "54/54 [==============================] - 75s 1s/step - loss: 0.0163 - accuracy: 0.9968 - val_loss: 0.0842 - val_accuracy: 0.9828\n",
            "Epoch 21/25\n",
            "54/54 [==============================] - 75s 1s/step - loss: 0.0483 - accuracy: 0.9869 - val_loss: 0.0513 - val_accuracy: 0.9849\n",
            "Epoch 22/25\n",
            "54/54 [==============================] - 76s 1s/step - loss: 0.0356 - accuracy: 0.9925 - val_loss: 0.1945 - val_accuracy: 0.9548\n",
            "Epoch 23/25\n",
            "54/54 [==============================] - 75s 1s/step - loss: 0.2683 - accuracy: 0.9728 - val_loss: 0.7609 - val_accuracy: 0.9140\n",
            "Epoch 24/25\n",
            "54/54 [==============================] - 75s 1s/step - loss: 0.1210 - accuracy: 0.9829 - val_loss: 0.3967 - val_accuracy: 0.9441\n",
            "Epoch 25/25\n",
            "54/54 [==============================] - 75s 1s/step - loss: 0.0303 - accuracy: 0.9927 - val_loss: 0.1834 - val_accuracy: 0.9806\n"
          ],
          "name": "stdout"
        }
      ]
    },
    {
      "cell_type": "code",
      "metadata": {
        "colab": {
          "base_uri": "https://localhost:8080/"
        },
        "id": "RTKbMraqlT-z",
        "outputId": "f08803e5-aae0-4ba2-d2a3-b24329161860"
      },
      "source": [
        "y_pred_class=model.predict_classes(X_test)\n",
        "print(y_pred_class)"
      ],
      "execution_count": null,
      "outputs": [
        {
          "output_type": "stream",
          "text": [
            "/usr/local/lib/python3.7/dist-packages/keras/engine/sequential.py:450: UserWarning: `model.predict_classes()` is deprecated and will be removed after 2021-01-01. Please use instead:* `np.argmax(model.predict(x), axis=-1)`,   if your model does multi-class classification   (e.g. if it uses a `softmax` last-layer activation).* `(model.predict(x) > 0.5).astype(\"int32\")`,   if your model does binary classification   (e.g. if it uses a `sigmoid` last-layer activation).\n",
            "  warnings.warn('`model.predict_classes()` is deprecated and '\n"
          ],
          "name": "stderr"
        },
        {
          "output_type": "stream",
          "text": [
            "[1 1 1 1 1 1 1 1 1 1 1 1 1 1 1 1 1 1 1 1 1 1 1 1 1 1 1 1 1 1 1 1 1 1 1 1 1\n",
            " 1 1 1 1 1 1 1 1 1 1 1 1 1 1 1 1 1 1 1 1 1 1 1 0 1 1 1 1 1 1 1 1 1 1 1 1 1\n",
            " 1 1 1 1 1 1 1 1 1 1 1 1 1 1 1 1 1 1 1 1 1 1 1 1 1 1 1 1 1 1 1 1 1 1 1 1 1\n",
            " 1 1 1 1 1 1 1 1 1 1 1 1 1 1 1 1 1 1 1 1 1 1 1 1 1 1 1 1 1 1 1 1 1 1 1 1 1\n",
            " 1 1 1 1 1 1 1 1 1 1 1 1 1 1 1 1 1 1 1 1 1 1 1 1 1 1 1 1 1 1 1 1 1 1 1 1 1\n",
            " 1 1 1 1 1 1 1 1 1 1 1 1 1 1 1 1 1 1 1 1 1 1 1 1 1 1 1 1 1 1 1 1 1 1 1 1 1\n",
            " 1 1 1 1 1 1 1 1 1 1 1 1 1 1 1 1 1 1 1 1 1 1 1 1 1 1 0 1 1 1 1 1 1 1 1 1 1\n",
            " 1 1 1 1 1 1 1 1 1 1 1 1 1 1 1 1 1 1 1 1 1 1 1 1 1 1 1 1 1 1 1 1 1 1 1 1 1\n",
            " 1 1 1 1 1 1 0 1 1 1 1 1 1 0 1 1 1 1 1 1 1 0 0 0 0 0 0 0 0 0 0 0 0 1 0 0 0\n",
            " 0 0 0 0 0 0 0 0 0 0 0 0 0 0 1 0 0 0 0 0 0 0 0 0 0 0 0 0 0 0 0 0 0 0 0 0 0\n",
            " 0 0 0 0 0 0 0 0 0 0 0 0 0 0 0 1 0 0 0 0 0 0 0 0 0 0 0 0 0 0 0 0 0 0 0 0 0\n",
            " 0 0 0 0 0 0 0 0 0 0 0 0 0 0 0 0 0 0 0 0 0 0 0 0 0 0 0 0 0 0 0 0 0 0 0 0 0\n",
            " 1 0 0 0 0 0 0 0 0 0 0 0 0 0 0 1 0 0 0 0 0]\n"
          ],
          "name": "stdout"
        }
      ]
    },
    {
      "cell_type": "code",
      "metadata": {
        "colab": {
          "base_uri": "https://localhost:8080/"
        },
        "id": "fWHJz6NulUBN",
        "outputId": "0cb03102-6d9e-4a64-d61a-63eda5f16028"
      },
      "source": [
        "from sklearn.preprocessing import LabelEncoder\n",
        "labelencoder = LabelEncoder()\n",
        "yy= labelencoder.fit_transform(y_test)\n",
        "print(yy)"
      ],
      "execution_count": null,
      "outputs": [
        {
          "output_type": "stream",
          "text": [
            "[1 1 1 1 1 1 1 1 1 1 1 1 1 1 1 1 1 1 1 1 1 1 1 1 1 1 1 1 1 1 1 1 1 1 1 1 1\n",
            " 1 1 1 1 1 1 1 1 1 1 1 1 1 1 1 1 1 1 1 1 1 1 1 1 1 1 1 1 1 1 1 1 1 1 1 1 1\n",
            " 1 1 1 1 1 1 1 1 1 1 1 1 1 1 1 1 1 1 1 1 1 1 1 1 1 1 1 1 1 1 1 1 1 1 1 1 1\n",
            " 1 1 1 1 1 1 1 1 1 1 1 1 1 1 1 1 1 1 1 1 1 1 1 1 1 1 1 1 1 1 1 1 1 1 1 1 1\n",
            " 1 1 1 1 1 1 1 1 1 1 1 1 1 1 1 1 1 1 1 1 1 1 1 1 1 1 1 1 1 1 1 1 1 1 1 1 1\n",
            " 1 1 1 1 1 1 1 1 1 1 1 1 1 1 1 1 1 1 1 1 1 1 1 1 1 1 1 1 1 1 1 1 1 1 1 1 1\n",
            " 1 1 1 1 1 1 1 1 1 1 1 1 1 1 1 1 1 1 1 1 1 1 1 1 1 1 1 1 1 1 1 1 1 1 1 1 1\n",
            " 1 1 1 1 1 1 1 1 1 1 1 1 1 1 1 1 1 1 1 1 1 1 1 1 1 1 1 1 1 1 1 1 1 1 1 1 1\n",
            " 1 1 1 1 1 1 1 1 1 1 1 1 1 1 1 1 1 1 1 1 1 0 0 0 0 0 0 0 0 0 0 0 0 0 0 0 0\n",
            " 0 0 0 0 0 0 0 0 0 0 0 0 0 0 0 0 0 0 0 0 0 0 0 0 0 0 0 0 0 0 0 0 0 0 0 0 0\n",
            " 0 0 0 0 0 0 0 0 0 0 0 0 0 0 0 0 0 0 0 0 0 0 0 0 0 0 0 0 0 0 0 0 0 0 0 0 0\n",
            " 0 0 0 0 0 0 0 0 0 0 0 0 0 0 0 0 0 0 0 0 0 0 0 0 0 0 0 0 0 0 0 0 0 0 0 0 0\n",
            " 0 0 0 0 0 0 0 0 0 0 0 0 0 0 0 0 0 0 0 0 0]\n"
          ],
          "name": "stdout"
        },
        {
          "output_type": "stream",
          "text": [
            "/usr/local/lib/python3.7/dist-packages/sklearn/preprocessing/_label.py:251: DataConversionWarning: A column-vector y was passed when a 1d array was expected. Please change the shape of y to (n_samples, ), for example using ravel().\n",
            "  y = column_or_1d(y, warn=True)\n"
          ],
          "name": "stderr"
        }
      ]
    },
    {
      "cell_type": "code",
      "metadata": {
        "colab": {
          "base_uri": "https://localhost:8080/"
        },
        "id": "e8MXu8COoFZD",
        "outputId": "77cae694-6059-46c0-8fec-18a2654a8d7b"
      },
      "source": [
        "from sklearn.metrics import confusion_matrix\n",
        "cm=confusion_matrix(yy,y_pred_class)\n",
        "print(cm)"
      ],
      "execution_count": null,
      "outputs": [
        {
          "output_type": "stream",
          "text": [
            "[[143   5]\n",
            " [  4 313]]\n"
          ],
          "name": "stdout"
        }
      ]
    },
    {
      "cell_type": "code",
      "metadata": {
        "colab": {
          "base_uri": "https://localhost:8080/"
        },
        "id": "qalFrsdooFis",
        "outputId": "3a6ac46f-5b03-435f-fdad-9c6645e2c6e7"
      },
      "source": [
        "acc=(cm[0][0]+cm[1][1])/(cm[1][0]+cm[0][1]+cm[0][0]+cm[1][1])\n",
        "R1=(cm[0][0])/(cm[0][0]+cm[0][1])\n",
        "P1=(cm[1][1])/(cm[1][0]+cm[1][1])\n",
        "F1=(2*R1*P1)/(R1+P1)\n",
        "    \n",
        "print(acc,R1,P1,F1)"
      ],
      "execution_count": null,
      "outputs": [
        {
          "output_type": "stream",
          "text": [
            "0.9806451612903225 0.9662162162162162 0.9873817034700315 0.9766843052752168\n"
          ],
          "name": "stdout"
        }
      ]
    },
    {
      "cell_type": "code",
      "metadata": {
        "colab": {
          "base_uri": "https://localhost:8080/",
          "height": 504
        },
        "id": "CCtU828JlUpg",
        "outputId": "8f2632f6-65ac-4ab6-9b55-089e0bdd1b6f"
      },
      "source": [
        "from sklearn.metrics import confusion_matrix, classification_report,accuracy_score,recall_score,precision_score\n",
        "print(classification_report(yy,y_pred_class))\n",
        "CM=confusion_matrix( yy,y_pred_class)\n",
        "from mlxtend.plotting import plot_confusion_matrix\n",
        "fig, ax = plot_confusion_matrix(conf_mat=CM ,  figsize=(5, 5))\n",
        "plt.show()\n",
        "accuracy_score(yy,y_pred_class)\n",
        "recall_score(yy,y_pred_class, average=None)\n",
        "precision_score(yy,y_pred_class, average=None)"
      ],
      "execution_count": null,
      "outputs": [
        {
          "output_type": "stream",
          "text": [
            "              precision    recall  f1-score   support\n",
            "\n",
            "           0       0.97      0.97      0.97       148\n",
            "           1       0.98      0.99      0.99       317\n",
            "\n",
            "    accuracy                           0.98       465\n",
            "   macro avg       0.98      0.98      0.98       465\n",
            "weighted avg       0.98      0.98      0.98       465\n",
            "\n"
          ],
          "name": "stdout"
        },
        {
          "output_type": "display_data",
          "data": {
            "image/png": "[encoded data removed]",
            "text/plain": [
              "<Figure size 360x360 with 1 Axes>"
            ]
          },
          "metadata": {
            "tags": []
          }
        },
        {
          "output_type": "execute_result",
          "data": {
            "text/plain": [
              "array([0.97278912, 0.98427673])"
            ]
          },
          "metadata": {
            "tags": []
          },
          "execution_count": 96
        }
      ]
    },
    {
      "cell_type": "code",
      "metadata": {
        "colab": {
          "base_uri": "https://localhost:8080/",
          "height": 573
        },
        "id": "FMFJeSyISFbR",
        "outputId": "ef1959d2-0aa1-4c02-afb1-195ac121bff4"
      },
      "source": [
        "plt.plot(hist.history['accuracy'])\n",
        "plt.plot(hist.history['val_accuracy'])\n",
        "plt.title('Model Accuracy')\n",
        "plt.ylabel('Accuracy')\n",
        "plt.xlabel('Epoch')\n",
        "plt.legend([\"Train_acc\",\"Validation_acc\"])\n",
        "plt.show()\n",
        "\n",
        "plt.plot(hist.history['loss'])\n",
        "plt.plot(hist.history['val_loss'])\n",
        "plt.title('Model Loss')\n",
        "plt.ylabel('Loss')\n",
        "plt.xlabel('Epoch')\n",
        "plt.legend([\"Train_loss\",\"Validation Loss\"])\n",
        "plt.show()"
      ],
      "execution_count": null,
      "outputs": [
        {
          "output_type": "display_data",
          "data": {
            "image/png": "[encoded data removed]",
            "text/plain": [
              "<Figure size 432x288 with 1 Axes>"
            ]
          },
          "metadata": {
            "tags": []
          }
        },
        {
          "output_type": "display_data",
          "data": {
            "image/png": "[encoded data removed]",
            "text/plain": [
              "<Figure size 432x288 with 1 Axes>"
            ]
          },
          "metadata": {
            "tags": []
          }
        }
      ]
    },
    {
      "cell_type": "markdown",
      "metadata": {
        "id": "SysVOnxCt-PI"
      },
      "source": [
        "model6"
      ]
    },
    {
      "cell_type": "code",
      "metadata": {
        "id": "5M30gccqlUsH"
      },
      "source": [
        "model = Sequential()\n",
        "model.add(Conv2D(filters=24, kernel_size=5, activation='relu', input_shape=(200,200,1)))\n",
        "model.add(Conv2D(filters=32, kernel_size=3, activation='relu'))\n",
        "model.add(MaxPool2D(pool_size=2))\n",
        "\n",
        "model.add(Conv2D(filters=64, kernel_size=3, activation='relu'))\n",
        "\n",
        "model.add(MaxPool2D(pool_size=2))\n",
        "model.add(Flatten())\n",
        "model.add(Flatten())\n",
        "model.add(Dense(100, activation='relu'))\n",
        "model.add(Dense(2,activation = 'softmax'))"
      ],
      "execution_count": null,
      "outputs": []
    },
    {
      "cell_type": "code",
      "metadata": {
        "colab": {
          "base_uri": "https://localhost:8080/"
        },
        "id": "VPvHhblSlUvl",
        "outputId": "8e57cfc5-14dc-45d8-b07a-276c7063fa45"
      },
      "source": [
        "model.compile(loss='categorical_crossentropy',optimizer='adam',metrics=['accuracy'])\n",
        "model.summary()"
      ],
      "execution_count": null,
      "outputs": [
        {
          "output_type": "stream",
          "text": [
            "Model: \"sequential_21\"\n",
            "_________________________________________________________________\n",
            "Layer (type)                 Output Shape              Param #   \n",
            "=================================================================\n",
            "conv2d_59 (Conv2D)           (None, 196, 196, 24)      624       \n",
            "_________________________________________________________________\n",
            "conv2d_60 (Conv2D)           (None, 194, 194, 32)      6944      \n",
            "_________________________________________________________________\n",
            "max_pooling2d_40 (MaxPooling (None, 97, 97, 32)        0         \n",
            "_________________________________________________________________\n",
            "conv2d_61 (Conv2D)           (None, 95, 95, 64)        18496     \n",
            "_________________________________________________________________\n",
            "max_pooling2d_41 (MaxPooling (None, 47, 47, 64)        0         \n",
            "_________________________________________________________________\n",
            "flatten_26 (Flatten)         (None, 141376)            0         \n",
            "_________________________________________________________________\n",
            "flatten_27 (Flatten)         (None, 141376)            0         \n",
            "_________________________________________________________________\n",
            "dense_47 (Dense)             (None, 100)               14137700  \n",
            "_________________________________________________________________\n",
            "dense_48 (Dense)             (None, 2)                 202       \n",
            "=================================================================\n",
            "Total params: 14,163,966\n",
            "Trainable params: 14,163,966\n",
            "Non-trainable params: 0\n",
            "_________________________________________________________________\n"
          ],
          "name": "stdout"
        }
      ]
    },
    {
      "cell_type": "code",
      "metadata": {
        "colab": {
          "base_uri": "https://localhost:8080/"
        },
        "id": "UyRNny-ulCGR",
        "outputId": "10ed5f6a-05bf-4e99-bb09-0f158f610b4b"
      },
      "source": [
        "hist=model.fit(X_train, y_train_one_hot, epochs=25, validation_data=(X_test, y_test_one_hot))\n"
      ],
      "execution_count": null,
      "outputs": [
        {
          "output_type": "stream",
          "text": [
            "Epoch 1/25\n",
            "54/54 [==============================] - 157s 3s/step - loss: 241.8902 - accuracy: 0.7134 - val_loss: 0.0858 - val_accuracy: 0.9634\n",
            "Epoch 2/25\n",
            "54/54 [==============================] - 155s 3s/step - loss: 0.0553 - accuracy: 0.9821 - val_loss: 0.0619 - val_accuracy: 0.9742\n",
            "Epoch 3/25\n",
            "54/54 [==============================] - 154s 3s/step - loss: 0.0188 - accuracy: 0.9921 - val_loss: 0.0737 - val_accuracy: 0.9742\n",
            "Epoch 4/25\n",
            "54/54 [==============================] - 155s 3s/step - loss: 0.0062 - accuracy: 0.9994 - val_loss: 0.1322 - val_accuracy: 0.9527\n",
            "Epoch 5/25\n",
            "54/54 [==============================] - 155s 3s/step - loss: 0.0266 - accuracy: 0.9913 - val_loss: 0.1334 - val_accuracy: 0.9677\n",
            "Epoch 6/25\n",
            "54/54 [==============================] - 153s 3s/step - loss: 0.0628 - accuracy: 0.9773 - val_loss: 0.3511 - val_accuracy: 0.9118\n",
            "Epoch 7/25\n",
            "54/54 [==============================] - 154s 3s/step - loss: 0.0220 - accuracy: 0.9898 - val_loss: 0.2338 - val_accuracy: 0.9312\n",
            "Epoch 8/25\n",
            "54/54 [==============================] - 154s 3s/step - loss: 0.0051 - accuracy: 1.0000 - val_loss: 0.1295 - val_accuracy: 0.9720\n",
            "Epoch 9/25\n",
            "54/54 [==============================] - 153s 3s/step - loss: 0.0015 - accuracy: 1.0000 - val_loss: 0.1032 - val_accuracy: 0.9785\n",
            "Epoch 10/25\n",
            "54/54 [==============================] - 153s 3s/step - loss: 6.5265e-04 - accuracy: 1.0000 - val_loss: 0.1267 - val_accuracy: 0.9720\n",
            "Epoch 11/25\n",
            "54/54 [==============================] - 153s 3s/step - loss: 3.2946e-04 - accuracy: 1.0000 - val_loss: 0.1094 - val_accuracy: 0.9785\n",
            "Epoch 12/25\n",
            "54/54 [==============================] - 153s 3s/step - loss: 1.9337e-04 - accuracy: 1.0000 - val_loss: 0.1192 - val_accuracy: 0.9742\n",
            "Epoch 13/25\n",
            "54/54 [==============================] - 153s 3s/step - loss: 1.2744e-04 - accuracy: 1.0000 - val_loss: 0.1212 - val_accuracy: 0.9742\n",
            "Epoch 14/25\n",
            "54/54 [==============================] - 154s 3s/step - loss: 1.1003e-04 - accuracy: 1.0000 - val_loss: 0.1156 - val_accuracy: 0.9720\n",
            "Epoch 15/25\n",
            "54/54 [==============================] - 154s 3s/step - loss: 1.1644e-04 - accuracy: 1.0000 - val_loss: 0.1224 - val_accuracy: 0.9699\n",
            "Epoch 16/25\n",
            "54/54 [==============================] - 154s 3s/step - loss: 6.6759e-05 - accuracy: 1.0000 - val_loss: 0.1213 - val_accuracy: 0.9699\n",
            "Epoch 17/25\n",
            "54/54 [==============================] - 153s 3s/step - loss: 8.1821e-05 - accuracy: 1.0000 - val_loss: 0.1214 - val_accuracy: 0.9699\n",
            "Epoch 18/25\n",
            "54/54 [==============================] - 154s 3s/step - loss: 9.1648e-05 - accuracy: 1.0000 - val_loss: 0.1241 - val_accuracy: 0.9699\n",
            "Epoch 19/25\n",
            "54/54 [==============================] - 155s 3s/step - loss: 4.6184e-05 - accuracy: 1.0000 - val_loss: 0.1258 - val_accuracy: 0.9699\n",
            "Epoch 20/25\n",
            "54/54 [==============================] - 155s 3s/step - loss: 6.1344e-05 - accuracy: 1.0000 - val_loss: 0.1292 - val_accuracy: 0.9699\n",
            "Epoch 21/25\n",
            "54/54 [==============================] - 154s 3s/step - loss: 5.7248e-05 - accuracy: 1.0000 - val_loss: 0.1323 - val_accuracy: 0.9699\n",
            "Epoch 22/25\n",
            "54/54 [==============================] - 154s 3s/step - loss: 3.2206e-05 - accuracy: 1.0000 - val_loss: 0.1249 - val_accuracy: 0.9699\n",
            "Epoch 23/25\n",
            "54/54 [==============================] - 154s 3s/step - loss: 4.0058e-05 - accuracy: 1.0000 - val_loss: 0.1287 - val_accuracy: 0.9699\n",
            "Epoch 24/25\n",
            "54/54 [==============================] - 155s 3s/step - loss: 3.3180e-05 - accuracy: 1.0000 - val_loss: 0.1279 - val_accuracy: 0.9699\n",
            "Epoch 25/25\n",
            "54/54 [==============================] - 155s 3s/step - loss: 3.9119e-05 - accuracy: 1.0000 - val_loss: 0.1271 - val_accuracy: 0.9699\n"
          ],
          "name": "stdout"
        }
      ]
    },
    {
      "cell_type": "code",
      "metadata": {
        "colab": {
          "base_uri": "https://localhost:8080/"
        },
        "id": "mnkdudQrlCJY",
        "outputId": "80f8941e-7108-4cf1-a462-89e33d8720e6"
      },
      "source": [
        "y_pred_class=model.predict_classes(X_test)\n",
        "print(y_pred_class)"
      ],
      "execution_count": null,
      "outputs": [
        {
          "output_type": "stream",
          "text": [
            "/usr/local/lib/python3.7/dist-packages/keras/engine/sequential.py:450: UserWarning: `model.predict_classes()` is deprecated and will be removed after 2021-01-01. Please use instead:* `np.argmax(model.predict(x), axis=-1)`,   if your model does multi-class classification   (e.g. if it uses a `softmax` last-layer activation).* `(model.predict(x) > 0.5).astype(\"int32\")`,   if your model does binary classification   (e.g. if it uses a `sigmoid` last-layer activation).\n",
            "  warnings.warn('`model.predict_classes()` is deprecated and '\n"
          ],
          "name": "stderr"
        },
        {
          "output_type": "stream",
          "text": [
            "[1 1 1 1 1 1 1 1 1 1 1 1 1 1 1 1 1 1 1 1 1 1 1 1 1 1 1 1 1 1 1 1 1 1 1 1 1\n",
            " 1 1 1 1 1 1 1 1 1 1 1 1 1 1 1 1 1 1 1 1 1 1 1 0 1 1 1 1 1 1 1 1 1 1 1 1 1\n",
            " 1 1 1 1 1 1 1 1 1 1 1 1 1 1 1 1 1 1 1 1 1 1 1 1 1 1 1 1 1 1 1 1 1 1 1 1 1\n",
            " 1 1 1 1 1 1 1 1 1 1 1 1 1 1 1 1 1 1 1 1 1 1 1 1 1 1 1 1 1 1 1 1 1 1 1 1 1\n",
            " 1 1 1 1 1 1 1 1 1 1 1 1 1 1 1 1 1 1 1 1 1 1 1 1 1 1 1 1 1 1 1 1 1 1 1 1 1\n",
            " 1 1 1 1 1 1 1 1 1 1 1 1 1 1 1 1 1 1 1 1 1 1 1 1 1 1 1 1 1 1 1 1 1 1 1 1 1\n",
            " 1 1 1 1 1 1 1 1 1 1 1 1 1 1 1 1 1 1 1 1 1 1 1 1 1 1 1 1 1 1 1 1 1 1 1 1 1\n",
            " 1 1 1 1 1 1 1 1 1 1 1 1 1 1 1 1 1 1 1 1 1 1 1 1 1 1 1 1 1 1 1 1 1 1 0 1 1\n",
            " 1 1 1 1 1 1 1 1 1 1 1 1 1 1 1 1 1 1 1 1 1 0 0 0 0 0 0 0 0 0 0 0 0 1 0 0 0\n",
            " 1 0 0 0 0 0 0 0 0 0 0 0 0 1 1 0 0 0 0 0 0 0 0 0 0 0 1 0 0 0 0 0 0 0 0 0 0\n",
            " 0 0 0 0 0 0 0 0 0 0 0 0 0 0 0 1 0 0 0 0 0 0 0 1 0 0 0 0 0 0 0 0 0 0 0 0 0\n",
            " 0 0 0 0 0 0 0 0 0 0 0 0 0 1 0 0 0 0 0 0 0 0 0 0 0 0 0 0 0 0 0 0 0 0 0 0 0\n",
            " 1 0 0 1 0 0 0 0 0 0 0 0 0 0 0 1 0 0 0 1 0]\n"
          ],
          "name": "stdout"
        }
      ]
    },
    {
      "cell_type": "code",
      "metadata": {
        "colab": {
          "base_uri": "https://localhost:8080/"
        },
        "id": "7nkGKipYlCMx",
        "outputId": "d1a5c681-6cb3-44c2-d01a-4c6eedf9c79c"
      },
      "source": [
        "from sklearn.preprocessing import LabelEncoder\n",
        "labelencoder = LabelEncoder()\n",
        "yy= labelencoder.fit_transform(y_test)\n",
        "print(yy)"
      ],
      "execution_count": null,
      "outputs": [
        {
          "output_type": "stream",
          "text": [
            "[1 1 1 1 1 1 1 1 1 1 1 1 1 1 1 1 1 1 1 1 1 1 1 1 1 1 1 1 1 1 1 1 1 1 1 1 1\n",
            " 1 1 1 1 1 1 1 1 1 1 1 1 1 1 1 1 1 1 1 1 1 1 1 1 1 1 1 1 1 1 1 1 1 1 1 1 1\n",
            " 1 1 1 1 1 1 1 1 1 1 1 1 1 1 1 1 1 1 1 1 1 1 1 1 1 1 1 1 1 1 1 1 1 1 1 1 1\n",
            " 1 1 1 1 1 1 1 1 1 1 1 1 1 1 1 1 1 1 1 1 1 1 1 1 1 1 1 1 1 1 1 1 1 1 1 1 1\n",
            " 1 1 1 1 1 1 1 1 1 1 1 1 1 1 1 1 1 1 1 1 1 1 1 1 1 1 1 1 1 1 1 1 1 1 1 1 1\n",
            " 1 1 1 1 1 1 1 1 1 1 1 1 1 1 1 1 1 1 1 1 1 1 1 1 1 1 1 1 1 1 1 1 1 1 1 1 1\n",
            " 1 1 1 1 1 1 1 1 1 1 1 1 1 1 1 1 1 1 1 1 1 1 1 1 1 1 1 1 1 1 1 1 1 1 1 1 1\n",
            " 1 1 1 1 1 1 1 1 1 1 1 1 1 1 1 1 1 1 1 1 1 1 1 1 1 1 1 1 1 1 1 1 1 1 1 1 1\n",
            " 1 1 1 1 1 1 1 1 1 1 1 1 1 1 1 1 1 1 1 1 1 0 0 0 0 0 0 0 0 0 0 0 0 0 0 0 0\n",
            " 0 0 0 0 0 0 0 0 0 0 0 0 0 0 0 0 0 0 0 0 0 0 0 0 0 0 0 0 0 0 0 0 0 0 0 0 0\n",
            " 0 0 0 0 0 0 0 0 0 0 0 0 0 0 0 0 0 0 0 0 0 0 0 0 0 0 0 0 0 0 0 0 0 0 0 0 0\n",
            " 0 0 0 0 0 0 0 0 0 0 0 0 0 0 0 0 0 0 0 0 0 0 0 0 0 0 0 0 0 0 0 0 0 0 0 0 0\n",
            " 0 0 0 0 0 0 0 0 0 0 0 0 0 0 0 0 0 0 0 0 0]\n"
          ],
          "name": "stdout"
        },
        {
          "output_type": "stream",
          "text": [
            "/usr/local/lib/python3.7/dist-packages/sklearn/preprocessing/_label.py:251: DataConversionWarning: A column-vector y was passed when a 1d array was expected. Please change the shape of y to (n_samples, ), for example using ravel().\n",
            "  y = column_or_1d(y, warn=True)\n"
          ],
          "name": "stderr"
        }
      ]
    },
    {
      "cell_type": "code",
      "metadata": {
        "colab": {
          "base_uri": "https://localhost:8080/"
        },
        "id": "Hhd4nLd4-w_8",
        "outputId": "5f5f5a43-2b64-409b-c8f2-d8ea8a55c3a7"
      },
      "source": [
        "from sklearn.metrics import confusion_matrix\n",
        "cm=confusion_matrix(yy,y_pred_class)\n",
        "print(cm)"
      ],
      "execution_count": null,
      "outputs": [
        {
          "output_type": "stream",
          "text": [
            "[[136  12]\n",
            " [  2 315]]\n"
          ],
          "name": "stdout"
        }
      ]
    },
    {
      "cell_type": "code",
      "metadata": {
        "colab": {
          "base_uri": "https://localhost:8080/"
        },
        "id": "E-O91RZT-05N",
        "outputId": "49cbbf41-a65d-4af1-bf16-d9a3efd44e46"
      },
      "source": [
        "acc=(cm[0][0]+cm[1][1])/(cm[1][0]+cm[0][1]+cm[0][0]+cm[1][1])\n",
        "R1=(cm[0][0])/(cm[0][0]+cm[0][1])\n",
        "P1=(cm[1][1])/(cm[1][0]+cm[1][1])\n",
        "F1=(2*R1*P1)/(R1+P1)\n",
        "    \n",
        "print(acc,R1,P1,F1)"
      ],
      "execution_count": null,
      "outputs": [
        {
          "output_type": "stream",
          "text": [
            "0.9698924731182795 0.918918918918919 0.9936908517350158 0.9548433111933313\n"
          ],
          "name": "stdout"
        }
      ]
    },
    {
      "cell_type": "code",
      "metadata": {
        "colab": {
          "base_uri": "https://localhost:8080/",
          "height": 504
        },
        "id": "cUqGVUok-07-",
        "outputId": "33f29654-506e-4901-b9fb-f166f75a7b82"
      },
      "source": [
        "from sklearn.metrics import confusion_matrix, classification_report,accuracy_score,recall_score,precision_score\n",
        "print(classification_report(yy,y_pred_class))\n",
        "CM=confusion_matrix( yy,y_pred_class)\n",
        "from mlxtend.plotting import plot_confusion_matrix\n",
        "fig, ax = plot_confusion_matrix(conf_mat=CM ,  figsize=(5, 5))\n",
        "plt.show()\n",
        "accuracy_score(yy,y_pred_class)\n",
        "#recall_score(yy,y_pred_class, average=None)\n",
        "#precision_score(yy,y_pred_class, average=None)"
      ],
      "execution_count": null,
      "outputs": [
        {
          "output_type": "stream",
          "text": [
            "              precision    recall  f1-score   support\n",
            "\n",
            "           0       0.99      0.92      0.95       148\n",
            "           1       0.96      0.99      0.98       317\n",
            "\n",
            "    accuracy                           0.97       465\n",
            "   macro avg       0.97      0.96      0.96       465\n",
            "weighted avg       0.97      0.97      0.97       465\n",
            "\n"
          ],
          "name": "stdout"
        },
        {
          "output_type": "display_data",
          "data": {
            "image/png": "[encoded data removed]",
            "text/plain": [
              "<Figure size 360x360 with 1 Axes>"
            ]
          },
          "metadata": {
            "tags": []
          }
        },
        {
          "output_type": "execute_result",
          "data": {
            "text/plain": [
              "0.9698924731182795"
            ]
          },
          "metadata": {
            "tags": []
          },
          "execution_count": 105
        }
      ]
    },
    {
      "cell_type": "code",
      "metadata": {
        "colab": {
          "base_uri": "https://localhost:8080/",
          "height": 573
        },
        "id": "ITS-ZHr_SIFH",
        "outputId": "592e01b0-591b-4c81-9416-7b9833e00a7e"
      },
      "source": [
        "plt.plot(hist.history['accuracy'])\n",
        "plt.plot(hist.history['val_accuracy'])\n",
        "plt.title('Model Accuracy')\n",
        "plt.ylabel('Accuracy')\n",
        "plt.xlabel('Epoch')\n",
        "plt.legend([\"Train_acc\",\"Validation_acc\"])\n",
        "plt.show()\n",
        "\n",
        "plt.plot(hist.history['loss'])\n",
        "plt.plot(hist.history['val_loss'])\n",
        "plt.title('Model Loss')\n",
        "plt.ylabel('Loss')\n",
        "plt.xlabel('Epoch')\n",
        "plt.legend([\"Train_loss\",\"Validation Loss\"])\n",
        "plt.show()"
      ],
      "execution_count": null,
      "outputs": [
        {
          "output_type": "display_data",
          "data": {
            "image/png": "[encoded data removed]",
            "text/plain": [
              "<Figure size 432x288 with 1 Axes>"
            ]
          },
          "metadata": {
            "tags": []
          }
        },
        {
          "output_type": "display_data",
          "data": {
            "image/png": "[encoded data removed]",
            "text/plain": [
              "<Figure size 432x288 with 1 Axes>"
            ]
          },
          "metadata": {
            "tags": []
          }
        }
      ]
    },
    {
      "cell_type": "markdown",
      "metadata": {
        "id": "va5Z2IIVA5L4"
      },
      "source": [
        "model7"
      ]
    },
    {
      "cell_type": "code",
      "metadata": {
        "id": "kHnC0C-A-0-i"
      },
      "source": [
        "model = Sequential()\n",
        "model.add(Conv2D(filters=16, kernel_size=5, activation='relu', input_shape=(200,200,1)))\n",
        "model.add(MaxPool2D(pool_size=2))\n",
        "\n",
        "model.add(Conv2D(filters=8, kernel_size=3, activation='relu'))\n",
        "model.add(MaxPool2D(pool_size=2))\n",
        "model.add(Flatten())\n",
        "model.add(Dense(100, activation='relu'))\n",
        "model.add(Dropout(0.5))\n",
        "model.add(Dense(2,activation = 'softmax'))"
      ],
      "execution_count": null,
      "outputs": []
    },
    {
      "cell_type": "code",
      "metadata": {
        "colab": {
          "base_uri": "https://localhost:8080/"
        },
        "id": "VaEzz5Ue-1B4",
        "outputId": "71cf1ed5-bb2c-4c4e-c2a7-1e458843d6b4"
      },
      "source": [
        "model.compile(loss='categorical_crossentropy',optimizer='adam',metrics=['accuracy'])\n",
        "model.summary()"
      ],
      "execution_count": null,
      "outputs": [
        {
          "output_type": "stream",
          "text": [
            "Model: \"sequential_22\"\n",
            "_________________________________________________________________\n",
            "Layer (type)                 Output Shape              Param #   \n",
            "=================================================================\n",
            "conv2d_62 (Conv2D)           (None, 196, 196, 16)      416       \n",
            "_________________________________________________________________\n",
            "max_pooling2d_42 (MaxPooling (None, 98, 98, 16)        0         \n",
            "_________________________________________________________________\n",
            "conv2d_63 (Conv2D)           (None, 96, 96, 8)         1160      \n",
            "_________________________________________________________________\n",
            "max_pooling2d_43 (MaxPooling (None, 48, 48, 8)         0         \n",
            "_________________________________________________________________\n",
            "flatten_28 (Flatten)         (None, 18432)             0         \n",
            "_________________________________________________________________\n",
            "dense_49 (Dense)             (None, 100)               1843300   \n",
            "_________________________________________________________________\n",
            "dropout_17 (Dropout)         (None, 100)               0         \n",
            "_________________________________________________________________\n",
            "dense_50 (Dense)             (None, 2)                 202       \n",
            "=================================================================\n",
            "Total params: 1,845,078\n",
            "Trainable params: 1,845,078\n",
            "Non-trainable params: 0\n",
            "_________________________________________________________________\n"
          ],
          "name": "stdout"
        }
      ]
    },
    {
      "cell_type": "code",
      "metadata": {
        "colab": {
          "base_uri": "https://localhost:8080/"
        },
        "id": "_V8JAJEy-1E0",
        "outputId": "a0608464-ac5c-475e-c19e-dd07cda1a5e6"
      },
      "source": [
        "hist=model.fit(X_train, y_train_one_hot, epochs=25, validation_data=(X_test, y_test_one_hot))\n"
      ],
      "execution_count": null,
      "outputs": [
        {
          "output_type": "stream",
          "text": [
            "Epoch 1/25\n",
            "54/54 [==============================] - 43s 782ms/step - loss: 9.2039 - accuracy: 0.7747 - val_loss: 0.3678 - val_accuracy: 0.8796\n",
            "Epoch 2/25\n",
            "54/54 [==============================] - 42s 777ms/step - loss: 0.2021 - accuracy: 0.9564 - val_loss: 0.2519 - val_accuracy: 0.9097\n",
            "Epoch 3/25\n",
            "54/54 [==============================] - 42s 775ms/step - loss: 0.0702 - accuracy: 0.9811 - val_loss: 0.2005 - val_accuracy: 0.9333\n",
            "Epoch 4/25\n",
            "54/54 [==============================] - 42s 776ms/step - loss: 0.0589 - accuracy: 0.9839 - val_loss: 0.3603 - val_accuracy: 0.8882\n",
            "Epoch 5/25\n",
            "54/54 [==============================] - 42s 774ms/step - loss: 0.0562 - accuracy: 0.9834 - val_loss: 0.1275 - val_accuracy: 0.9656\n",
            "Epoch 6/25\n",
            "54/54 [==============================] - 41s 769ms/step - loss: 0.0690 - accuracy: 0.9829 - val_loss: 0.2392 - val_accuracy: 0.9441\n",
            "Epoch 7/25\n",
            "54/54 [==============================] - 41s 769ms/step - loss: 0.0415 - accuracy: 0.9886 - val_loss: 0.3288 - val_accuracy: 0.9333\n",
            "Epoch 8/25\n",
            "54/54 [==============================] - 42s 771ms/step - loss: 0.0833 - accuracy: 0.9798 - val_loss: 0.1033 - val_accuracy: 0.9742\n",
            "Epoch 9/25\n",
            "54/54 [==============================] - 42s 781ms/step - loss: 0.0294 - accuracy: 0.9946 - val_loss: 0.1959 - val_accuracy: 0.9527\n",
            "Epoch 10/25\n",
            "54/54 [==============================] - 42s 770ms/step - loss: 0.0388 - accuracy: 0.9921 - val_loss: 0.1490 - val_accuracy: 0.9699\n",
            "Epoch 11/25\n",
            "54/54 [==============================] - 41s 768ms/step - loss: 0.0158 - accuracy: 0.9948 - val_loss: 0.1199 - val_accuracy: 0.9720\n",
            "Epoch 12/25\n",
            "54/54 [==============================] - 41s 768ms/step - loss: 0.0109 - accuracy: 0.9977 - val_loss: 0.1690 - val_accuracy: 0.9763\n",
            "Epoch 13/25\n",
            "54/54 [==============================] - 41s 768ms/step - loss: 0.0063 - accuracy: 0.9991 - val_loss: 0.2192 - val_accuracy: 0.9656\n",
            "Epoch 14/25\n",
            "54/54 [==============================] - 41s 767ms/step - loss: 0.0237 - accuracy: 0.9948 - val_loss: 0.1671 - val_accuracy: 0.9720\n",
            "Epoch 15/25\n",
            "54/54 [==============================] - 41s 768ms/step - loss: 0.0117 - accuracy: 0.9986 - val_loss: 0.2065 - val_accuracy: 0.9677\n",
            "Epoch 16/25\n",
            "54/54 [==============================] - 41s 767ms/step - loss: 0.0078 - accuracy: 0.9990 - val_loss: 0.2190 - val_accuracy: 0.9742\n",
            "Epoch 17/25\n",
            "54/54 [==============================] - 41s 764ms/step - loss: 0.2047 - accuracy: 0.9540 - val_loss: 0.3397 - val_accuracy: 0.9054\n",
            "Epoch 18/25\n",
            "54/54 [==============================] - 41s 764ms/step - loss: 0.1391 - accuracy: 0.9526 - val_loss: 0.2982 - val_accuracy: 0.9226\n",
            "Epoch 19/25\n",
            "54/54 [==============================] - 41s 767ms/step - loss: 0.0706 - accuracy: 0.9741 - val_loss: 0.4611 - val_accuracy: 0.9226\n",
            "Epoch 20/25\n",
            "54/54 [==============================] - 41s 766ms/step - loss: 0.0552 - accuracy: 0.9776 - val_loss: 0.4369 - val_accuracy: 0.9204\n",
            "Epoch 21/25\n",
            "54/54 [==============================] - 41s 765ms/step - loss: 0.0360 - accuracy: 0.9907 - val_loss: 0.3103 - val_accuracy: 0.9269\n",
            "Epoch 22/25\n",
            "54/54 [==============================] - 41s 767ms/step - loss: 0.0674 - accuracy: 0.9780 - val_loss: 0.5579 - val_accuracy: 0.9269\n",
            "Epoch 23/25\n",
            "54/54 [==============================] - 41s 766ms/step - loss: 0.0237 - accuracy: 0.9932 - val_loss: 0.5368 - val_accuracy: 0.9290\n",
            "Epoch 24/25\n",
            "54/54 [==============================] - 41s 768ms/step - loss: 0.0175 - accuracy: 0.9965 - val_loss: 0.7168 - val_accuracy: 0.9290\n",
            "Epoch 25/25\n",
            "54/54 [==============================] - 41s 769ms/step - loss: 0.0302 - accuracy: 0.9929 - val_loss: 0.6703 - val_accuracy: 0.9290\n"
          ],
          "name": "stdout"
        }
      ]
    },
    {
      "cell_type": "code",
      "metadata": {
        "colab": {
          "base_uri": "https://localhost:8080/"
        },
        "id": "xvGnzONQ-xL6",
        "outputId": "a853095e-abfa-4885-d394-900646f538ff"
      },
      "source": [
        "y_pred_class=model.predict_classes(X_test)\n",
        "print(y_pred_class)"
      ],
      "execution_count": null,
      "outputs": [
        {
          "output_type": "stream",
          "text": [
            "/usr/local/lib/python3.7/dist-packages/keras/engine/sequential.py:450: UserWarning: `model.predict_classes()` is deprecated and will be removed after 2021-01-01. Please use instead:* `np.argmax(model.predict(x), axis=-1)`,   if your model does multi-class classification   (e.g. if it uses a `softmax` last-layer activation).* `(model.predict(x) > 0.5).astype(\"int32\")`,   if your model does binary classification   (e.g. if it uses a `sigmoid` last-layer activation).\n",
            "  warnings.warn('`model.predict_classes()` is deprecated and '\n"
          ],
          "name": "stderr"
        },
        {
          "output_type": "stream",
          "text": [
            "[1 1 1 1 1 1 1 1 1 1 1 1 1 1 1 1 1 1 1 1 1 1 1 1 1 1 1 1 1 1 1 1 1 1 1 1 1\n",
            " 1 1 1 1 1 1 1 1 1 1 1 1 1 1 1 1 1 1 1 1 1 1 1 1 1 1 1 1 1 1 1 1 1 1 1 1 1\n",
            " 1 1 1 1 1 1 1 1 1 1 1 1 1 1 1 1 1 1 1 1 1 1 1 1 1 1 1 1 1 1 1 1 1 1 1 1 1\n",
            " 1 1 1 1 1 1 1 1 1 1 1 1 1 1 1 1 1 1 1 1 1 1 1 1 1 1 1 1 1 1 1 0 1 1 1 1 1\n",
            " 1 1 1 1 1 1 1 1 1 1 1 1 1 1 1 1 1 1 1 1 1 1 1 1 1 1 1 1 1 1 1 1 1 1 1 1 1\n",
            " 1 1 1 1 1 1 1 1 1 1 1 1 1 1 1 1 1 1 1 1 1 1 1 1 1 1 1 1 1 1 1 1 1 1 1 1 1\n",
            " 1 1 1 1 1 1 1 1 1 1 1 1 1 1 1 1 1 1 1 1 1 1 1 1 1 1 1 1 1 1 1 1 1 1 1 1 1\n",
            " 1 1 1 1 1 1 1 1 1 0 1 1 1 1 1 1 1 1 1 1 0 1 1 1 1 1 1 1 1 1 1 1 1 1 0 1 1\n",
            " 1 1 1 1 1 1 1 1 1 1 1 1 1 1 1 0 1 1 1 1 1 0 0 0 0 0 0 1 0 1 0 0 1 1 0 0 1\n",
            " 1 0 0 0 0 0 0 1 1 0 0 0 0 0 1 1 0 0 0 0 1 0 0 1 0 0 1 0 0 0 1 0 0 0 0 0 0\n",
            " 0 0 0 0 0 0 0 1 0 0 0 0 0 0 0 1 0 0 0 0 1 0 0 0 0 0 0 0 0 0 0 0 0 0 0 0 0\n",
            " 0 0 0 0 0 0 0 0 0 0 0 0 0 1 0 0 0 0 0 0 0 0 0 0 0 0 0 0 0 1 0 0 0 1 0 0 0\n",
            " 1 0 1 1 0 0 1 0 0 0 0 1 0 1 0 1 0 0 0 0 1]\n"
          ],
          "name": "stdout"
        }
      ]
    },
    {
      "cell_type": "code",
      "metadata": {
        "colab": {
          "base_uri": "https://localhost:8080/"
        },
        "id": "g1VVlVaPAdWD",
        "outputId": "025e4004-bd1c-44d5-8ad0-1f4e162d763a"
      },
      "source": [
        "from sklearn.preprocessing import LabelEncoder\n",
        "labelencoder = LabelEncoder()\n",
        "yy= labelencoder.fit_transform(y_test)\n",
        "print(yy)"
      ],
      "execution_count": null,
      "outputs": [
        {
          "output_type": "stream",
          "text": [
            "[1 1 1 1 1 1 1 1 1 1 1 1 1 1 1 1 1 1 1 1 1 1 1 1 1 1 1 1 1 1 1 1 1 1 1 1 1\n",
            " 1 1 1 1 1 1 1 1 1 1 1 1 1 1 1 1 1 1 1 1 1 1 1 1 1 1 1 1 1 1 1 1 1 1 1 1 1\n",
            " 1 1 1 1 1 1 1 1 1 1 1 1 1 1 1 1 1 1 1 1 1 1 1 1 1 1 1 1 1 1 1 1 1 1 1 1 1\n",
            " 1 1 1 1 1 1 1 1 1 1 1 1 1 1 1 1 1 1 1 1 1 1 1 1 1 1 1 1 1 1 1 1 1 1 1 1 1\n",
            " 1 1 1 1 1 1 1 1 1 1 1 1 1 1 1 1 1 1 1 1 1 1 1 1 1 1 1 1 1 1 1 1 1 1 1 1 1\n",
            " 1 1 1 1 1 1 1 1 1 1 1 1 1 1 1 1 1 1 1 1 1 1 1 1 1 1 1 1 1 1 1 1 1 1 1 1 1\n",
            " 1 1 1 1 1 1 1 1 1 1 1 1 1 1 1 1 1 1 1 1 1 1 1 1 1 1 1 1 1 1 1 1 1 1 1 1 1\n",
            " 1 1 1 1 1 1 1 1 1 1 1 1 1 1 1 1 1 1 1 1 1 1 1 1 1 1 1 1 1 1 1 1 1 1 1 1 1\n",
            " 1 1 1 1 1 1 1 1 1 1 1 1 1 1 1 1 1 1 1 1 1 0 0 0 0 0 0 0 0 0 0 0 0 0 0 0 0\n",
            " 0 0 0 0 0 0 0 0 0 0 0 0 0 0 0 0 0 0 0 0 0 0 0 0 0 0 0 0 0 0 0 0 0 0 0 0 0\n",
            " 0 0 0 0 0 0 0 0 0 0 0 0 0 0 0 0 0 0 0 0 0 0 0 0 0 0 0 0 0 0 0 0 0 0 0 0 0\n",
            " 0 0 0 0 0 0 0 0 0 0 0 0 0 0 0 0 0 0 0 0 0 0 0 0 0 0 0 0 0 0 0 0 0 0 0 0 0\n",
            " 0 0 0 0 0 0 0 0 0 0 0 0 0 0 0 0 0 0 0 0 0]\n"
          ],
          "name": "stdout"
        },
        {
          "output_type": "stream",
          "text": [
            "/usr/local/lib/python3.7/dist-packages/sklearn/preprocessing/_label.py:251: DataConversionWarning: A column-vector y was passed when a 1d array was expected. Please change the shape of y to (n_samples, ), for example using ravel().\n",
            "  y = column_or_1d(y, warn=True)\n"
          ],
          "name": "stderr"
        }
      ]
    },
    {
      "cell_type": "code",
      "metadata": {
        "colab": {
          "base_uri": "https://localhost:8080/"
        },
        "id": "O8K6aNBGAdZL",
        "outputId": "eb7cf6d4-a510-47da-8dd1-72a6e3dfb54b"
      },
      "source": [
        "from sklearn.metrics import confusion_matrix\n",
        "cm=confusion_matrix(yy,y_pred_class)\n",
        "print(cm)"
      ],
      "execution_count": null,
      "outputs": [
        {
          "output_type": "stream",
          "text": [
            "[[120  28]\n",
            " [  5 312]]\n"
          ],
          "name": "stdout"
        }
      ]
    },
    {
      "cell_type": "code",
      "metadata": {
        "colab": {
          "base_uri": "https://localhost:8080/"
        },
        "id": "3IdDHurrAdd0",
        "outputId": "ce1a1e3e-0e59-4781-9db6-3785c6681baa"
      },
      "source": [
        "acc=(cm[0][0]+cm[1][1])/(cm[1][0]+cm[0][1]+cm[0][0]+cm[1][1])\n",
        "R1=(cm[0][0])/(cm[0][0]+cm[0][1])\n",
        "P1=(cm[1][1])/(cm[1][0]+cm[1][1])\n",
        "F1=(2*R1*P1)/(R1+P1)\n",
        "    \n",
        "print(acc,R1,P1,F1)"
      ],
      "execution_count": null,
      "outputs": [
        {
          "output_type": "stream",
          "text": [
            "0.9290322580645162 0.8108108108108109 0.9842271293375394 0.8891422057566258\n"
          ],
          "name": "stdout"
        }
      ]
    },
    {
      "cell_type": "code",
      "metadata": {
        "colab": {
          "base_uri": "https://localhost:8080/",
          "height": 504
        },
        "id": "EZR8R_cNAdhl",
        "outputId": "878add80-f4bc-4a69-e996-8b6e39c0e501"
      },
      "source": [
        "from sklearn.metrics import confusion_matrix, classification_report,accuracy_score,recall_score,precision_score\n",
        "print(classification_report(yy,y_pred_class))\n",
        "CM=confusion_matrix( yy,y_pred_class)\n",
        "from mlxtend.plotting import plot_confusion_matrix\n",
        "fig, ax = plot_confusion_matrix(conf_mat=CM ,  figsize=(5, 5))\n",
        "plt.show()\n",
        "accuracy_score(yy,y_pred_class)\n",
        "#recall_score(yy,y_pred_class, average=None)\n",
        "#precision_score(yy,y_pred_class, average=None)"
      ],
      "execution_count": null,
      "outputs": [
        {
          "output_type": "stream",
          "text": [
            "              precision    recall  f1-score   support\n",
            "\n",
            "           0       0.96      0.81      0.88       148\n",
            "           1       0.92      0.98      0.95       317\n",
            "\n",
            "    accuracy                           0.93       465\n",
            "   macro avg       0.94      0.90      0.91       465\n",
            "weighted avg       0.93      0.93      0.93       465\n",
            "\n"
          ],
          "name": "stdout"
        },
        {
          "output_type": "display_data",
          "data": {
            "image/png": "[encoded data removed]",
            "text/plain": [
              "<Figure size 360x360 with 1 Axes>"
            ]
          },
          "metadata": {
            "tags": []
          }
        },
        {
          "output_type": "execute_result",
          "data": {
            "text/plain": [
              "0.9290322580645162"
            ]
          },
          "metadata": {
            "tags": []
          },
          "execution_count": 114
        }
      ]
    },
    {
      "cell_type": "code",
      "metadata": {
        "colab": {
          "base_uri": "https://localhost:8080/",
          "height": 573
        },
        "id": "INFWoCvFSKhe",
        "outputId": "b31c843c-9922-4314-a8f7-b9aca373f199"
      },
      "source": [
        "plt.plot(hist.history['accuracy'])\n",
        "plt.plot(hist.history['val_accuracy'])\n",
        "plt.title('Model Accuracy')\n",
        "plt.ylabel('Accuracy')\n",
        "plt.xlabel('Epoch')\n",
        "plt.legend([\"Train_acc\",\"Validation_acc\"])\n",
        "plt.show()\n",
        "\n",
        "plt.plot(hist.history['loss'])\n",
        "plt.plot(hist.history['val_loss'])\n",
        "plt.title('Model Loss')\n",
        "plt.ylabel('Loss')\n",
        "plt.xlabel('Epoch')\n",
        "plt.legend([\"Train_loss\",\"Validation Loss\"])\n",
        "plt.show()"
      ],
      "execution_count": null,
      "outputs": [
        {
          "output_type": "display_data",
          "data": {
            "image/png": "[encoded data removed]",
            "text/plain": [
              "<Figure size 432x288 with 1 Axes>"
            ]
          },
          "metadata": {
            "tags": []
          }
        },
        {
          "output_type": "display_data",
          "data": {
            "image/png": "[encoded data removed]",
            "text/plain": [
              "<Figure size 432x288 with 1 Axes>"
            ]
          },
          "metadata": {
            "tags": []
          }
        }
      ]
    },
    {
      "cell_type": "markdown",
      "metadata": {
        "id": "k4qZO_8iA8Lh"
      },
      "source": [
        "model8"
      ]
    },
    {
      "cell_type": "code",
      "metadata": {
        "id": "YRPtPfCmAdkd"
      },
      "source": [
        "model = Sequential()\n",
        "model.add(Conv2D(filters=24, kernel_size=5, activation='relu', input_shape=(200,200,1)))\n",
        "model.add(Conv2D(filters=16, kernel_size=3, activation='relu'))\n",
        "model.add(Dense(100, activation='relu'))\n",
        "model.add(Dropout(0.25))\n",
        "model.add(Conv2D(filters=8, kernel_size=3, activation='relu'))\n",
        "model.add(MaxPool2D(pool_size=2))\n",
        "model.add(Flatten())\n",
        "model.add(Dense(100, activation='relu'))\n",
        "model.add(Dropout(0.5))\n",
        "model.add(Dense(2,activation = 'softmax'))"
      ],
      "execution_count": null,
      "outputs": []
    },
    {
      "cell_type": "code",
      "metadata": {
        "colab": {
          "base_uri": "https://localhost:8080/"
        },
        "id": "sDGJNZ6RDOVn",
        "outputId": "8105ae69-e99f-46f7-ff4e-f1f210a9d9d7"
      },
      "source": [
        "model.compile(loss='categorical_crossentropy',optimizer='adam',metrics=['accuracy'])\n",
        "model.summary()"
      ],
      "execution_count": null,
      "outputs": [
        {
          "output_type": "stream",
          "text": [
            "Model: \"sequential_23\"\n",
            "_________________________________________________________________\n",
            "Layer (type)                 Output Shape              Param #   \n",
            "=================================================================\n",
            "conv2d_64 (Conv2D)           (None, 196, 196, 24)      624       \n",
            "_________________________________________________________________\n",
            "conv2d_65 (Conv2D)           (None, 194, 194, 16)      3472      \n",
            "_________________________________________________________________\n",
            "dense_51 (Dense)             (None, 194, 194, 100)     1700      \n",
            "_________________________________________________________________\n",
            "dropout_18 (Dropout)         (None, 194, 194, 100)     0         \n",
            "_________________________________________________________________\n",
            "conv2d_66 (Conv2D)           (None, 192, 192, 8)       7208      \n",
            "_________________________________________________________________\n",
            "max_pooling2d_44 (MaxPooling (None, 96, 96, 8)         0         \n",
            "_________________________________________________________________\n",
            "flatten_29 (Flatten)         (None, 73728)             0         \n",
            "_________________________________________________________________\n",
            "dense_52 (Dense)             (None, 100)               7372900   \n",
            "_________________________________________________________________\n",
            "dropout_19 (Dropout)         (None, 100)               0         \n",
            "_________________________________________________________________\n",
            "dense_53 (Dense)             (None, 2)                 202       \n",
            "=================================================================\n",
            "Total params: 7,386,106\n",
            "Trainable params: 7,386,106\n",
            "Non-trainable params: 0\n",
            "_________________________________________________________________\n"
          ],
          "name": "stdout"
        }
      ]
    },
    {
      "cell_type": "code",
      "metadata": {
        "colab": {
          "background_save": true,
          "base_uri": "https://localhost:8080/"
        },
        "id": "GA-UDelJDPRV",
        "outputId": "dbe0fa2f-157f-41e6-b7f8-6933620e4071"
      },
      "source": [
        "hist=model.fit(X_train, y_train_one_hot, epochs=25, validation_data=(X_test, y_test_one_hot))\n"
      ],
      "execution_count": null,
      "outputs": [
        {
          "output_type": "error",
          "ename": "NameError",
          "evalue": "ignored",
          "traceback": [
            "\u001b[0;31m---------------------------------------------------------------------------\u001b[0m",
            "\u001b[0;31mNameError\u001b[0m                                 Traceback (most recent call last)",
            "\u001b[0;32m<ipython-input-3-2ef3887e77a7>\u001b[0m in \u001b[0;36m<module>\u001b[0;34m()\u001b[0m\n\u001b[0;32m----> 1\u001b[0;31m \u001b[0mhist\u001b[0m\u001b[0;34m=\u001b[0m\u001b[0mmodel\u001b[0m\u001b[0;34m.\u001b[0m\u001b[0mfit\u001b[0m\u001b[0;34m(\u001b[0m\u001b[0mX_train\u001b[0m\u001b[0;34m,\u001b[0m \u001b[0my_train_one_hot\u001b[0m\u001b[0;34m,\u001b[0m \u001b[0mepochs\u001b[0m\u001b[0;34m=\u001b[0m\u001b[0;36m25\u001b[0m\u001b[0;34m,\u001b[0m \u001b[0mvalidation_data\u001b[0m\u001b[0;34m=\u001b[0m\u001b[0;34m(\u001b[0m\u001b[0mX_test\u001b[0m\u001b[0;34m,\u001b[0m \u001b[0my_test_one_hot\u001b[0m\u001b[0;34m)\u001b[0m\u001b[0;34m)\u001b[0m\u001b[0;34m\u001b[0m\u001b[0;34m\u001b[0m\u001b[0m\n\u001b[0m",
            "\u001b[0;31mNameError\u001b[0m: name 'model' is not defined"
          ]
        }
      ]
    },
    {
      "cell_type": "code",
      "metadata": {
        "id": "fbpnCSUgDgdn"
      },
      "source": [
        "y_pred_class=model.predict_classes(X_test)\n",
        "print(y_pred_class)"
      ],
      "execution_count": null,
      "outputs": []
    },
    {
      "cell_type": "code",
      "metadata": {
        "id": "9HR1LTRfDgga"
      },
      "source": [
        "from sklearn.preprocessing import LabelEncoder\n",
        "labelencoder = LabelEncoder()\n",
        "yy= labelencoder.fit_transform(y_test)\n",
        "print(yy)"
      ],
      "execution_count": null,
      "outputs": []
    },
    {
      "cell_type": "code",
      "metadata": {
        "id": "s7HKIxBdDgjU"
      },
      "source": [
        "from sklearn.metrics import confusion_matrix\n",
        "cm=confusion_matrix(yy,y_pred_class)\n",
        "print(cm)"
      ],
      "execution_count": null,
      "outputs": []
    },
    {
      "cell_type": "code",
      "metadata": {
        "id": "VkkqAhcWDgmM"
      },
      "source": [
        "acc=(cm[0][0]+cm[1][1])/(cm[1][0]+cm[0][1]+cm[0][0]+cm[1][1])\n",
        "R1=(cm[0][0])/(cm[0][0]+cm[0][1])\n",
        "P1=(cm[1][1])/(cm[1][0]+cm[1][1])\n",
        "F1=(2*R1*P1)/(R1+P1)\n",
        "    \n",
        "print(acc,R1,P1,F1)"
      ],
      "execution_count": null,
      "outputs": []
    },
    {
      "cell_type": "code",
      "metadata": {
        "id": "rysNm4vrDgpL"
      },
      "source": [
        "from sklearn.metrics import confusion_matrix, classification_report,accuracy_score,recall_score,precision_score\n",
        "print(classification_report(yy,y_pred_class))\n",
        "CM=confusion_matrix( yy,y_pred_class)\n",
        "from mlxtend.plotting import plot_confusion_matrix\n",
        "fig, ax = plot_confusion_matrix(conf_mat=CM ,  figsize=(5, 5))\n",
        "plt.show()\n",
        "accuracy_score(yy,y_pred_class)\n",
        "#recall_score(yy,y_pred_class, average=None)\n",
        "#precision_score(yy,y_pred_class, average=None)"
      ],
      "execution_count": null,
      "outputs": []
    },
    {
      "cell_type": "code",
      "metadata": {
        "id": "71Cu9RYQDgsF"
      },
      "source": [
        "plt.plot(hist.history['accuracy'])\n",
        "plt.plot(hist.history['val_accuracy'])\n",
        "plt.title('Model Accuracy')\n",
        "plt.ylabel('Accuracy')\n",
        "plt.xlabel('Epoch')\n",
        "plt.legend([\"Train_acc\",\"Validation_acc\"])\n",
        "plt.show()\n",
        "\n",
        "plt.plot(hist.history['loss'])\n",
        "plt.plot(hist.history['val_loss'])\n",
        "plt.title('Model Loss')\n",
        "plt.ylabel('Loss')\n",
        "plt.xlabel('Epoch')\n",
        "plt.legend([\"Train_loss\",\"Validation Loss\"])\n",
        "plt.show()"
      ],
      "execution_count": null,
      "outputs": []
    },
    {
      "cell_type": "code",
      "metadata": {
        "id": "TY1QIx_I0qUc"
      },
      "source": [
        ""
      ],
      "execution_count": null,
      "outputs": []
    },
    {
      "cell_type": "code",
      "metadata": {
        "id": "wG9_Ej4b0qUc"
      },
      "source": [
        ""
      ],
      "execution_count": null,
      "outputs": []
    },
    {
      "cell_type": "code",
      "metadata": {
        "id": "vRXwUhoZ0qUe"
      },
      "source": [
        ""
      ],
      "execution_count": null,
      "outputs": []
    }
  ]
}